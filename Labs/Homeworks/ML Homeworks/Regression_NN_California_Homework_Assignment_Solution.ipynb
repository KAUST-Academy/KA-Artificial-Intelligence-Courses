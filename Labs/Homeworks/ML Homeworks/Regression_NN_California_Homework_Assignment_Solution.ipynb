{
  "cells": [
    {
      "cell_type": "markdown",
      "metadata": {
        "id": "l7HB9ndhrvju"
      },
      "source": [
        "![image.png](https://i.imgur.com/a3uAqnb.png)\n",
        "\n",
        "# Neural Network Regression for California Housing Prices - Homework Assignment\n",
        "\n",
        "In this homework, you will implement a **Neural Network for regression** to predict the median value of California houses. This project will help you understand the fundamentals of neural networks applied to regression tasks.\n",
        "\n",
        "## 📌 Project Overview\n",
        "- **Task**: Predict median house values in California\n",
        "- **Architecture**: Multi-layer Perceptron (MLP) for regression\n",
        "- **Dataset**: California Housing dataset (provided)\n",
        "- **Goal**: Build an accurate regression model using PyTorch\n",
        "\n",
        "## 📚 Learning Objectives\n",
        "By completing this assignment, you will:\n",
        "- Understand neural networks for regression problems\n",
        "- Learn data preprocessing and feature engineering\n",
        "- Implement a custom neural network architecture\n",
        "- Practice training, validation, and evaluation\n",
        "- Learn about regression metrics and model performance\n"
      ]
    },
    {
      "cell_type": "markdown",
      "metadata": {
        "id": "C48SHZ6vryH6"
      },
      "source": [
        "## 1️⃣ Initial Setup and Library Installation\n",
        "\n",
        "**Task**: Set up the environment and install necessary libraries."
      ]
    },
    {
      "cell_type": "code",
      "execution_count": 1,
      "metadata": {
        "id": "NPVvOUoKaouU"
      },
      "outputs": [],
      "source": [
        "from IPython.display import clear_output"
      ]
    },
    {
      "cell_type": "code",
      "execution_count": 2,
      "metadata": {
        "id": "O0OrlMrAr3JK"
      },
      "outputs": [],
      "source": [
        "# Incase you run this notebook outside colab (where the libraries aren't already pre-installed)\n",
        "\n",
        "# %pip install torch\n",
        "# %pip install matplotlib\n",
        "# %pip install scikit-learn\n",
        "\n",
        "clear_output()"
      ]
    },
    {
      "cell_type": "markdown",
      "metadata": {
        "id": "j8XHLZBLr4H7"
      },
      "source": [
        "\n",
        "## 2️⃣ Import Libraries and Configuration\n",
        "\n",
        "**Task**: Import all necessary libraries and set up configuration parameters.\n",
        "\n",
        "**Requirements**:\n",
        "- Import PyTorch and neural network modules\n",
        "- Import data processing libraries (pandas, sklearn)\n",
        "- Import visualization libraries\n",
        "- Set random seeds for reproducibility\n",
        "- Configure hyperparameters with reasonable values"
      ]
    },
    {
      "cell_type": "code",
      "execution_count": 3,
      "metadata": {
        "id": "0_UyJZ3Vr5FX"
      },
      "outputs": [],
      "source": [
        "import torch\n",
        "import torch.nn as nn\n",
        "import torch.optim as optim\n",
        "import kagglehub\n",
        "import os\n",
        "import pandas as pd\n",
        "import numpy as np\n",
        "import matplotlib.pyplot as plt\n",
        "from sklearn.preprocessing import LabelEncoder, StandardScaler\n",
        "from sklearn.model_selection import train_test_split\n",
        "from sklearn.metrics import mean_squared_error, mean_absolute_error, r2_score"
      ]
    },
    {
      "cell_type": "code",
      "execution_count": 4,
      "metadata": {
        "id": "f6Lz3iNTr5wt"
      },
      "outputs": [
        {
          "name": "stdout",
          "output_type": "stream",
          "text": [
            "Using device: cuda\n"
          ]
        }
      ],
      "source": [
        "torch.manual_seed(42)\n",
        "np.random.seed(42)\n",
        "\n",
        "device = torch.device('cuda' if torch.cuda.is_available() else 'cpu')\n",
        "print(f\"Using device: {device}\")\n",
        "\n",
        "BATCH_SIZE = 64          # Batch size for training\n",
        "LEARNING_RATE = 0.001    # Learning rate for optimizer\n",
        "NUM_EPOCHS = 100         # Number of training epochs\n",
        "HIDDEN_SIZE = 128        # Size of hidden layers\n",
        "NUM_HIDDEN_LAYERS = 3    # Number of hidden layers\n",
        "VALIDATION_SPLIT = 0.3   # Validation split ratio"
      ]
    },
    {
      "cell_type": "markdown",
      "metadata": {
        "id": "ulAL7pFAr7WF"
      },
      "source": [
        "## 3️⃣ Data Loading and Exploration\n",
        "\n",
        "**Task**: Load the California housing dataset and explore its structure.\n",
        "\n",
        "**Requirements**:\n",
        "- Download and load the dataset\n",
        "- Display basic information about the data\n",
        "- Check for missing values\n",
        "- Understand the features and target variable"
      ]
    },
    {
      "cell_type": "code",
      "execution_count": 5,
      "metadata": {
        "id": "7IyCEe9Br8RA"
      },
      "outputs": [
        {
          "name": "stdout",
          "output_type": "stream",
          "text": [
            "Downloading from https://www.kaggle.com/api/v1/datasets/download/camnugent/california-housing-prices?dataset_version_number=1...\n"
          ]
        },
        {
          "name": "stderr",
          "output_type": "stream",
          "text": [
            "100%|█████████████████████████████████████████████████████████████████████████████████| 400k/400k [00:02<00:00, 146kB/s]"
          ]
        },
        {
          "name": "stdout",
          "output_type": "stream",
          "text": [
            "Extracting files...\n",
            "Path to dataset files: /home/ali/.cache/kagglehub/datasets/camnugent/california-housing-prices/versions/1\n"
          ]
        },
        {
          "name": "stderr",
          "output_type": "stream",
          "text": [
            "\n"
          ]
        }
      ],
      "source": [
        "# Download latest version\n",
        "path = kagglehub.dataset_download(\"camnugent/california-housing-prices\")\n",
        "\n",
        "print(\"Path to dataset files:\", path)"
      ]
    },
    {
      "cell_type": "code",
      "execution_count": 6,
      "metadata": {
        "id": "KtyCqPVfr9op"
      },
      "outputs": [
        {
          "name": "stdout",
          "output_type": "stream",
          "text": [
            "Files in dataset directory:\n",
            "housing.csv\n"
          ]
        }
      ],
      "source": [
        "# List files in the dataset directory\n",
        "print(\"Files in dataset directory:\")\n",
        "for file in os.listdir(path):\n",
        "    print(file)"
      ]
    },
    {
      "cell_type": "code",
      "execution_count": 7,
      "metadata": {
        "id": "_Rt5evPrr-lC"
      },
      "outputs": [
        {
          "name": "stdout",
          "output_type": "stream",
          "text": [
            "Dataset shape: (20640, 10)\n",
            "Columns: ['longitude', 'latitude', 'housing_median_age', 'total_rooms', 'total_bedrooms', 'population', 'households', 'median_income', 'median_house_value', 'ocean_proximity']\n"
          ]
        }
      ],
      "source": [
        "# Load the dataset\n",
        "california_data = pd.read_csv(os.path.join(path, 'housing.csv'))\n",
        "print(f\"Dataset shape: {california_data.shape}\")\n",
        "print(f\"Columns: {list(california_data.columns)}\")"
      ]
    },
    {
      "cell_type": "code",
      "execution_count": 8,
      "metadata": {
        "id": "hk_HY8C6sA1x"
      },
      "outputs": [
        {
          "data": {
            "text/html": [
              "<div>\n",
              "<style scoped>\n",
              "    .dataframe tbody tr th:only-of-type {\n",
              "        vertical-align: middle;\n",
              "    }\n",
              "\n",
              "    .dataframe tbody tr th {\n",
              "        vertical-align: top;\n",
              "    }\n",
              "\n",
              "    .dataframe thead th {\n",
              "        text-align: right;\n",
              "    }\n",
              "</style>\n",
              "<table border=\"1\" class=\"dataframe\">\n",
              "  <thead>\n",
              "    <tr style=\"text-align: right;\">\n",
              "      <th></th>\n",
              "      <th>longitude</th>\n",
              "      <th>latitude</th>\n",
              "      <th>housing_median_age</th>\n",
              "      <th>total_rooms</th>\n",
              "      <th>total_bedrooms</th>\n",
              "      <th>population</th>\n",
              "      <th>households</th>\n",
              "      <th>median_income</th>\n",
              "      <th>median_house_value</th>\n",
              "      <th>ocean_proximity</th>\n",
              "    </tr>\n",
              "  </thead>\n",
              "  <tbody>\n",
              "    <tr>\n",
              "      <th>0</th>\n",
              "      <td>-122.23</td>\n",
              "      <td>37.88</td>\n",
              "      <td>41.0</td>\n",
              "      <td>880.0</td>\n",
              "      <td>129.0</td>\n",
              "      <td>322.0</td>\n",
              "      <td>126.0</td>\n",
              "      <td>8.3252</td>\n",
              "      <td>452600.0</td>\n",
              "      <td>NEAR BAY</td>\n",
              "    </tr>\n",
              "    <tr>\n",
              "      <th>1</th>\n",
              "      <td>-122.22</td>\n",
              "      <td>37.86</td>\n",
              "      <td>21.0</td>\n",
              "      <td>7099.0</td>\n",
              "      <td>1106.0</td>\n",
              "      <td>2401.0</td>\n",
              "      <td>1138.0</td>\n",
              "      <td>8.3014</td>\n",
              "      <td>358500.0</td>\n",
              "      <td>NEAR BAY</td>\n",
              "    </tr>\n",
              "    <tr>\n",
              "      <th>2</th>\n",
              "      <td>-122.24</td>\n",
              "      <td>37.85</td>\n",
              "      <td>52.0</td>\n",
              "      <td>1467.0</td>\n",
              "      <td>190.0</td>\n",
              "      <td>496.0</td>\n",
              "      <td>177.0</td>\n",
              "      <td>7.2574</td>\n",
              "      <td>352100.0</td>\n",
              "      <td>NEAR BAY</td>\n",
              "    </tr>\n",
              "    <tr>\n",
              "      <th>3</th>\n",
              "      <td>-122.25</td>\n",
              "      <td>37.85</td>\n",
              "      <td>52.0</td>\n",
              "      <td>1274.0</td>\n",
              "      <td>235.0</td>\n",
              "      <td>558.0</td>\n",
              "      <td>219.0</td>\n",
              "      <td>5.6431</td>\n",
              "      <td>341300.0</td>\n",
              "      <td>NEAR BAY</td>\n",
              "    </tr>\n",
              "    <tr>\n",
              "      <th>4</th>\n",
              "      <td>-122.25</td>\n",
              "      <td>37.85</td>\n",
              "      <td>52.0</td>\n",
              "      <td>1627.0</td>\n",
              "      <td>280.0</td>\n",
              "      <td>565.0</td>\n",
              "      <td>259.0</td>\n",
              "      <td>3.8462</td>\n",
              "      <td>342200.0</td>\n",
              "      <td>NEAR BAY</td>\n",
              "    </tr>\n",
              "  </tbody>\n",
              "</table>\n",
              "</div>"
            ],
            "text/plain": [
              "   longitude  latitude  housing_median_age  total_rooms  total_bedrooms  \\\n",
              "0    -122.23     37.88                41.0        880.0           129.0   \n",
              "1    -122.22     37.86                21.0       7099.0          1106.0   \n",
              "2    -122.24     37.85                52.0       1467.0           190.0   \n",
              "3    -122.25     37.85                52.0       1274.0           235.0   \n",
              "4    -122.25     37.85                52.0       1627.0           280.0   \n",
              "\n",
              "   population  households  median_income  median_house_value ocean_proximity  \n",
              "0       322.0       126.0         8.3252            452600.0        NEAR BAY  \n",
              "1      2401.0      1138.0         8.3014            358500.0        NEAR BAY  \n",
              "2       496.0       177.0         7.2574            352100.0        NEAR BAY  \n",
              "3       558.0       219.0         5.6431            341300.0        NEAR BAY  \n",
              "4       565.0       259.0         3.8462            342200.0        NEAR BAY  "
            ]
          },
          "execution_count": 8,
          "metadata": {},
          "output_type": "execute_result"
        }
      ],
      "source": [
        "california_data.head()"
      ]
    },
    {
      "cell_type": "code",
      "execution_count": 9,
      "metadata": {
        "id": "Y4mHMc6isBoP"
      },
      "outputs": [
        {
          "name": "stdout",
          "output_type": "stream",
          "text": [
            "\n",
            "Missing values:\n",
            "longitude               0\n",
            "latitude                0\n",
            "housing_median_age      0\n",
            "total_rooms             0\n",
            "total_bedrooms        207\n",
            "population              0\n",
            "households              0\n",
            "median_income           0\n",
            "median_house_value      0\n",
            "ocean_proximity         0\n",
            "dtype: int64\n",
            "\n",
            "Basic statistics:\n"
          ]
        },
        {
          "data": {
            "text/html": [
              "<div>\n",
              "<style scoped>\n",
              "    .dataframe tbody tr th:only-of-type {\n",
              "        vertical-align: middle;\n",
              "    }\n",
              "\n",
              "    .dataframe tbody tr th {\n",
              "        vertical-align: top;\n",
              "    }\n",
              "\n",
              "    .dataframe thead th {\n",
              "        text-align: right;\n",
              "    }\n",
              "</style>\n",
              "<table border=\"1\" class=\"dataframe\">\n",
              "  <thead>\n",
              "    <tr style=\"text-align: right;\">\n",
              "      <th></th>\n",
              "      <th>longitude</th>\n",
              "      <th>latitude</th>\n",
              "      <th>housing_median_age</th>\n",
              "      <th>total_rooms</th>\n",
              "      <th>total_bedrooms</th>\n",
              "      <th>population</th>\n",
              "      <th>households</th>\n",
              "      <th>median_income</th>\n",
              "      <th>median_house_value</th>\n",
              "    </tr>\n",
              "  </thead>\n",
              "  <tbody>\n",
              "    <tr>\n",
              "      <th>count</th>\n",
              "      <td>20640.000000</td>\n",
              "      <td>20640.000000</td>\n",
              "      <td>20640.000000</td>\n",
              "      <td>20640.000000</td>\n",
              "      <td>20433.000000</td>\n",
              "      <td>20640.000000</td>\n",
              "      <td>20640.000000</td>\n",
              "      <td>20640.000000</td>\n",
              "      <td>20640.000000</td>\n",
              "    </tr>\n",
              "    <tr>\n",
              "      <th>mean</th>\n",
              "      <td>-119.569704</td>\n",
              "      <td>35.631861</td>\n",
              "      <td>28.639486</td>\n",
              "      <td>2635.763081</td>\n",
              "      <td>537.870553</td>\n",
              "      <td>1425.476744</td>\n",
              "      <td>499.539680</td>\n",
              "      <td>3.870671</td>\n",
              "      <td>206855.816909</td>\n",
              "    </tr>\n",
              "    <tr>\n",
              "      <th>std</th>\n",
              "      <td>2.003532</td>\n",
              "      <td>2.135952</td>\n",
              "      <td>12.585558</td>\n",
              "      <td>2181.615252</td>\n",
              "      <td>421.385070</td>\n",
              "      <td>1132.462122</td>\n",
              "      <td>382.329753</td>\n",
              "      <td>1.899822</td>\n",
              "      <td>115395.615874</td>\n",
              "    </tr>\n",
              "    <tr>\n",
              "      <th>min</th>\n",
              "      <td>-124.350000</td>\n",
              "      <td>32.540000</td>\n",
              "      <td>1.000000</td>\n",
              "      <td>2.000000</td>\n",
              "      <td>1.000000</td>\n",
              "      <td>3.000000</td>\n",
              "      <td>1.000000</td>\n",
              "      <td>0.499900</td>\n",
              "      <td>14999.000000</td>\n",
              "    </tr>\n",
              "    <tr>\n",
              "      <th>25%</th>\n",
              "      <td>-121.800000</td>\n",
              "      <td>33.930000</td>\n",
              "      <td>18.000000</td>\n",
              "      <td>1447.750000</td>\n",
              "      <td>296.000000</td>\n",
              "      <td>787.000000</td>\n",
              "      <td>280.000000</td>\n",
              "      <td>2.563400</td>\n",
              "      <td>119600.000000</td>\n",
              "    </tr>\n",
              "    <tr>\n",
              "      <th>50%</th>\n",
              "      <td>-118.490000</td>\n",
              "      <td>34.260000</td>\n",
              "      <td>29.000000</td>\n",
              "      <td>2127.000000</td>\n",
              "      <td>435.000000</td>\n",
              "      <td>1166.000000</td>\n",
              "      <td>409.000000</td>\n",
              "      <td>3.534800</td>\n",
              "      <td>179700.000000</td>\n",
              "    </tr>\n",
              "    <tr>\n",
              "      <th>75%</th>\n",
              "      <td>-118.010000</td>\n",
              "      <td>37.710000</td>\n",
              "      <td>37.000000</td>\n",
              "      <td>3148.000000</td>\n",
              "      <td>647.000000</td>\n",
              "      <td>1725.000000</td>\n",
              "      <td>605.000000</td>\n",
              "      <td>4.743250</td>\n",
              "      <td>264725.000000</td>\n",
              "    </tr>\n",
              "    <tr>\n",
              "      <th>max</th>\n",
              "      <td>-114.310000</td>\n",
              "      <td>41.950000</td>\n",
              "      <td>52.000000</td>\n",
              "      <td>39320.000000</td>\n",
              "      <td>6445.000000</td>\n",
              "      <td>35682.000000</td>\n",
              "      <td>6082.000000</td>\n",
              "      <td>15.000100</td>\n",
              "      <td>500001.000000</td>\n",
              "    </tr>\n",
              "  </tbody>\n",
              "</table>\n",
              "</div>"
            ],
            "text/plain": [
              "          longitude      latitude  housing_median_age   total_rooms  \\\n",
              "count  20640.000000  20640.000000        20640.000000  20640.000000   \n",
              "mean    -119.569704     35.631861           28.639486   2635.763081   \n",
              "std        2.003532      2.135952           12.585558   2181.615252   \n",
              "min     -124.350000     32.540000            1.000000      2.000000   \n",
              "25%     -121.800000     33.930000           18.000000   1447.750000   \n",
              "50%     -118.490000     34.260000           29.000000   2127.000000   \n",
              "75%     -118.010000     37.710000           37.000000   3148.000000   \n",
              "max     -114.310000     41.950000           52.000000  39320.000000   \n",
              "\n",
              "       total_bedrooms    population    households  median_income  \\\n",
              "count    20433.000000  20640.000000  20640.000000   20640.000000   \n",
              "mean       537.870553   1425.476744    499.539680       3.870671   \n",
              "std        421.385070   1132.462122    382.329753       1.899822   \n",
              "min          1.000000      3.000000      1.000000       0.499900   \n",
              "25%        296.000000    787.000000    280.000000       2.563400   \n",
              "50%        435.000000   1166.000000    409.000000       3.534800   \n",
              "75%        647.000000   1725.000000    605.000000       4.743250   \n",
              "max       6445.000000  35682.000000   6082.000000      15.000100   \n",
              "\n",
              "       median_house_value  \n",
              "count        20640.000000  \n",
              "mean        206855.816909  \n",
              "std         115395.615874  \n",
              "min          14999.000000  \n",
              "25%         119600.000000  \n",
              "50%         179700.000000  \n",
              "75%         264725.000000  \n",
              "max         500001.000000  "
            ]
          },
          "execution_count": 9,
          "metadata": {},
          "output_type": "execute_result"
        }
      ],
      "source": [
        "print(\"\\nMissing values:\")\n",
        "print(california_data.isnull().sum())\n",
        "print(\"\\nBasic statistics:\")\n",
        "california_data.describe()"
      ]
    },
    {
      "cell_type": "markdown",
      "metadata": {
        "id": "Xq_LnahesDez"
      },
      "source": [
        "\n",
        "## 4️⃣ Data Preprocessing and Feature Engineering\n",
        "\n",
        "**Task**: Clean and prepare the data for neural network training.\n",
        "\n",
        "**Requirements**:\n",
        "- Handle missing values if any\n",
        "- Encode categorical variables\n",
        "- Scale numerical features\n",
        "- Split features and target\n",
        "- Create train/validation/test splits"
      ]
    },
    {
      "cell_type": "code",
      "execution_count": 10,
      "metadata": {
        "id": "FX5Ub5HXsC67"
      },
      "outputs": [],
      "source": [
        "california_data = california_data.copy()"
      ]
    },
    {
      "cell_type": "code",
      "execution_count": 11,
      "metadata": {
        "id": "GXVndJKPsE5i"
      },
      "outputs": [
        {
          "name": "stdout",
          "output_type": "stream",
          "text": [
            "Training set size: 11558\n",
            "Validation set size: 4954\n",
            "Test set size: 4128\n",
            "Number of features: 12\n"
          ]
        },
        {
          "name": "stderr",
          "output_type": "stream",
          "text": [
            "/tmp/ipykernel_10231/1636970119.py:2: FutureWarning: A value is trying to be set on a copy of a DataFrame or Series through chained assignment using an inplace method.\n",
            "The behavior will change in pandas 3.0. This inplace method will never work because the intermediate object on which we are setting values always behaves as a copy.\n",
            "\n",
            "For example, when doing 'df[col].method(value, inplace=True)', try using 'df.method({col: value}, inplace=True)' or df[col] = df[col].method(value) instead, to perform the operation inplace on the original object.\n",
            "\n",
            "\n",
            "  california_data['total_bedrooms'].fillna(california_data['total_bedrooms'].median(), inplace=True)\n"
          ]
        }
      ],
      "source": [
        "# Handle missing values (fill with median for numerical columns)\n",
        "california_data['total_bedrooms'].fillna(california_data['total_bedrooms'].median(), inplace=True)\n",
        "\n",
        "# Feature engineering - create new features\n",
        "california_data['rooms_per_household'] = california_data['total_rooms'] / california_data['households']\n",
        "california_data['bedrooms_per_room'] = california_data['total_bedrooms'] / california_data['total_rooms']\n",
        "california_data['population_per_household'] = california_data['population'] / california_data['households']\n",
        "\n",
        "# Separate features from target\n",
        "X = california_data.drop('median_house_value', axis=1)\n",
        "y = california_data['median_house_value']\n",
        "\n",
        "# Encode the categorical ocean_proximity column\n",
        "label_encoder = LabelEncoder()\n",
        "X['ocean_proximity'] = label_encoder.fit_transform(X['ocean_proximity'])\n",
        "\n",
        "# Scale the features for better neural network performance\n",
        "scaler = StandardScaler()\n",
        "X_scaled = scaler.fit_transform(X)\n",
        "\n",
        "# Convert to numpy arrays\n",
        "X_scaled = np.array(X_scaled, dtype=np.float32)\n",
        "y = np.array(y, dtype=np.float32)\n",
        "\n",
        "# Split the data into train, validation, and test sets\n",
        "X_temp, X_test, y_temp, y_test = train_test_split(X_scaled, y, test_size=0.2, random_state=42)\n",
        "X_train, X_val, y_train, y_val = train_test_split(X_temp, y_temp, test_size=VALIDATION_SPLIT, random_state=42)\n",
        "\n",
        "print(f\"Training set size: {X_train.shape[0]}\")\n",
        "print(f\"Validation set size: {X_val.shape[0]}\")\n",
        "print(f\"Test set size: {X_test.shape[0]}\")\n",
        "print(f\"Number of features: {X_train.shape[1]}\")\n",
        "\n",
        "# Convert to PyTorch tensors\n",
        "X_train_tensor = torch.tensor(X_train, dtype=torch.float32)\n",
        "y_train_tensor = torch.tensor(y_train, dtype=torch.float32).view(-1, 1)\n",
        "X_val_tensor = torch.tensor(X_val, dtype=torch.float32)\n",
        "y_val_tensor = torch.tensor(y_val, dtype=torch.float32).view(-1, 1)\n",
        "X_test_tensor = torch.tensor(X_test, dtype=torch.float32)\n",
        "y_test_tensor = torch.tensor(y_test, dtype=torch.float32).view(-1, 1)"
      ]
    },
    {
      "cell_type": "markdown",
      "metadata": {
        "id": "m4jiSFY2sIgN"
      },
      "source": [
        "## 5️⃣ Neural Network Architecture\n",
        "\n",
        "**Task**: Design and implement a neural network for regression.\n",
        "\n",
        "**Requirements**:\n",
        "- Create a multi-layer perceptron (MLP)\n",
        "- Use appropriate activation functions\n",
        "- Ensure proper input/output dimensions\n",
        "- Use suitable architecture for regression"
      ]
    },
    {
      "cell_type": "code",
      "execution_count": 12,
      "metadata": {
        "id": "Q2a1tN9ZsLsK"
      },
      "outputs": [
        {
          "name": "stdout",
          "output_type": "stream",
          "text": [
            "Model architecture:\n",
            "HousePricePredictor(\n",
            "  (network): Sequential(\n",
            "    (0): Linear(in_features=12, out_features=128, bias=True)\n",
            "    (1): ReLU()\n",
            "    (2): Linear(in_features=128, out_features=128, bias=True)\n",
            "    (3): ReLU()\n",
            "    (4): Linear(in_features=128, out_features=128, bias=True)\n",
            "    (5): ReLU()\n",
            "    (6): Linear(in_features=128, out_features=1, bias=True)\n",
            "  )\n",
            ")\n",
            "\n",
            "Total parameters: 34817\n",
            "\n",
            "Sample input shape: torch.Size([1, 12])\n",
            "Sample output shape: torch.Size([1, 1])\n",
            "Sample output value: -0.01\n"
          ]
        }
      ],
      "source": [
        "class HousePricePredictor(nn.Module):\n",
        "    def __init__(self, input_size, hidden_size, num_hidden_layers):\n",
        "        super(HousePricePredictor, self).__init__()\n",
        "        \n",
        "        # Input layer\n",
        "        layers = [nn.Linear(input_size, hidden_size), nn.ReLU()]\n",
        "        \n",
        "        # Hidden layers\n",
        "        for _ in range(num_hidden_layers - 1):\n",
        "            layers.extend([nn.Linear(hidden_size, hidden_size), nn.ReLU()])\n",
        "        \n",
        "        # Output layer (single neuron for regression)\n",
        "        layers.append(nn.Linear(hidden_size, 1))\n",
        "        \n",
        "        # Create sequential model\n",
        "        self.network = nn.Sequential(*layers)\n",
        "        \n",
        "    def forward(self, x):\n",
        "        # Forward pass through the network\n",
        "        return self.network(x)\n",
        "\n",
        "# Initialize the model\n",
        "input_size = X_train.shape[1]\n",
        "model = HousePricePredictor(input_size, HIDDEN_SIZE, NUM_HIDDEN_LAYERS).to(device)\n",
        "\n",
        "print(f\"Model architecture:\")\n",
        "print(model)\n",
        "print(f\"\\nTotal parameters: {sum(p.numel() for p in model.parameters())}\")\n",
        "\n",
        "# Test the model with a sample input\n",
        "sample_input = torch.randn(1, input_size).to(device)\n",
        "sample_output = model(sample_input)\n",
        "print(f\"\\nSample input shape: {sample_input.shape}\")\n",
        "print(f\"Sample output shape: {sample_output.shape}\")\n",
        "print(f\"Sample output value: {sample_output.item():.2f}\")"
      ]
    },
    {
      "cell_type": "markdown",
      "metadata": {
        "id": "ivHv7xLHsPZm"
      },
      "source": [
        "\n",
        "## 6️⃣ Loss Function and Optimizer\n",
        "\n",
        "**Task**: Set up appropriate loss function and optimizer for regression.\n",
        "\n",
        "**Requirements**:\n",
        "- Choose suitable loss function for regression\n",
        "- Initialize optimizer with hyperparameters"
      ]
    },
    {
      "cell_type": "code",
      "execution_count": 14,
      "metadata": {
        "id": "n56oEu9nsQKA"
      },
      "outputs": [],
      "source": [
        "# Define loss function for regression\n",
        "criterion = nn.MSELoss()\n",
        "\n",
        "# Define optimizer\n",
        "optimizer = optim.Adam(model.parameters(), lr=LEARNING_RATE)"
      ]
    },
    {
      "cell_type": "markdown",
      "metadata": {
        "id": "iJmdvlxwsRN3"
      },
      "source": [
        "## 7️⃣ Training Loop with Validation\n",
        "\n",
        "**Task**: Implement a comprehensive training loop with validation.\n",
        "\n",
        "**Requirements**:\n",
        "- Train the model for specified epochs\n",
        "- Track training and validation losses\n",
        "- Save the best model based on validation performance\n",
        "- Display training progress"
      ]
    },
    {
      "cell_type": "code",
      "execution_count": 15,
      "metadata": {
        "id": "pR_CSE9CsSMO"
      },
      "outputs": [
        {
          "name": "stdout",
          "output_type": "stream",
          "text": [
            "Starting training...\n",
            "Epoch [10/100], Train Loss: 4462657589.7459, Val Loss: 4431622334.3590\n",
            "Epoch [20/100], Train Loss: 4094270951.2486, Val Loss: 4116170770.0513\n",
            "Epoch [30/100], Train Loss: 3955284180.1547, Val Loss: 4028988652.3077\n",
            "Epoch [40/100], Train Loss: 3862727854.6740, Val Loss: 3947429417.0256\n",
            "Epoch [50/100], Train Loss: 3790106527.1160, Val Loss: 3922485915.8974\n",
            "Epoch [60/100], Train Loss: 3737291601.3260, Val Loss: 3896976543.1795\n",
            "Epoch [70/100], Train Loss: 3685525739.4917, Val Loss: 3843761453.9487\n",
            "Epoch [80/100], Train Loss: 3638996950.9834, Val Loss: 3817948059.8974\n",
            "Epoch [90/100], Train Loss: 3601152637.1713, Val Loss: 3783997011.6923\n",
            "Epoch [100/100], Train Loss: 3578638870.6298, Val Loss: 3743039778.4615\n",
            "\n",
            "Training completed!\n",
            "Best validation loss: 3743039778.4615\n"
          ]
        }
      ],
      "source": [
        "# Create DataLoader for batch processing\n",
        "from torch.utils.data import DataLoader, TensorDataset\n",
        "\n",
        "train_dataset = TensorDataset(X_train_tensor, y_train_tensor)\n",
        "val_dataset = TensorDataset(X_val_tensor, y_val_tensor)\n",
        "\n",
        "train_loader = DataLoader(train_dataset, batch_size=BATCH_SIZE, shuffle=True)\n",
        "val_loader = DataLoader(val_dataset, batch_size=BATCH_SIZE, shuffle=False)\n",
        "\n",
        "# Initialize tracking variables\n",
        "train_losses = []\n",
        "val_losses = []\n",
        "best_val_loss = float('inf')\n",
        "\n",
        "print(\"Starting training...\")\n",
        "\n",
        "# Training loop\n",
        "for epoch in range(NUM_EPOCHS):\n",
        "    # Training phase\n",
        "    model.train()\n",
        "    train_loss = 0.0\n",
        "    \n",
        "    for batch_X, batch_y in train_loader:\n",
        "        batch_X, batch_y = batch_X.to(device), batch_y.to(device)\n",
        "        \n",
        "        # Forward pass\n",
        "        optimizer.zero_grad()\n",
        "        outputs = model(batch_X)\n",
        "        loss = criterion(outputs, batch_y)\n",
        "        \n",
        "        # Backward pass and optimization\n",
        "        loss.backward()\n",
        "        optimizer.step()\n",
        "        \n",
        "        train_loss += loss.item()\n",
        "    \n",
        "    # Validation phase\n",
        "    model.eval()\n",
        "    val_loss = 0.0\n",
        "    \n",
        "    with torch.no_grad():\n",
        "        for batch_X, batch_y in val_loader:\n",
        "            batch_X, batch_y = batch_X.to(device), batch_y.to(device)\n",
        "            # Forward pass\n",
        "            outputs = model(batch_X)\n",
        "            loss = criterion(outputs, batch_y)\n",
        "            val_loss += loss.item()\n",
        "    \n",
        "    # Calculate average losses\n",
        "    train_loss = train_loss / len(train_loader)\n",
        "    val_loss = val_loss / len(val_loader)\n",
        "    \n",
        "    train_losses.append(train_loss)\n",
        "    val_losses.append(val_loss)\n",
        "    \n",
        "    # Save best model\n",
        "    if val_loss < best_val_loss:\n",
        "        best_val_loss = val_loss\n",
        "        torch.save(model.state_dict(), 'best_model.pth')\n",
        "    \n",
        "    # Print progress\n",
        "    if (epoch + 1) % 10 == 0:\n",
        "        print(f'Epoch [{epoch+1}/{NUM_EPOCHS}], Train Loss: {train_loss:.4f}, Val Loss: {val_loss:.4f}')\n",
        "\n",
        "print(f\"\\nTraining completed!\")\n",
        "print(f\"Best validation loss: {best_val_loss:.4f}\")"
      ]
    },
    {
      "cell_type": "markdown",
      "metadata": {
        "id": "b36fWgxNsaY-"
      },
      "source": [
        "\n",
        "\n",
        "## 8️⃣ Model Evaluation and Testing\n",
        "\n",
        "**Task**: Evaluate the trained model on the test set and calculate regression metrics.\n",
        "\n",
        "**Requirements**:\n",
        "- Make predictions on test set\n",
        "- Calculate multiple regression metrics\n",
        "- Analyze model performance"
      ]
    },
    {
      "cell_type": "code",
      "execution_count": 16,
      "metadata": {
        "id": "1MPQ3MhSsbh-"
      },
      "outputs": [
        {
          "name": "stdout",
          "output_type": "stream",
          "text": [
            "Test Set Performance:\n",
            "Mean Squared Error (MSE): 4119556096.00\n",
            "Root Mean Squared Error (RMSE): 64183.77\n",
            "Mean Absolute Error (MAE): 43180.81\n",
            "R² Score: 0.6856\n",
            "\n",
            "Additional Information:\n",
            "Mean actual house value: $205500.31\n",
            "Mean predicted house value: $207239.88\n",
            "RMSE as percentage of mean: 31.23%\n"
          ]
        }
      ],
      "source": [
        "# Load the best model\n",
        "model.load_state_dict(torch.load('best_model.pth'))\n",
        "\n",
        "# Set the model to eval mode\n",
        "model.eval()\n",
        "\n",
        "# Make predictions on test set\n",
        "with torch.no_grad():\n",
        "    X_test_device = X_test_tensor.to(device)\n",
        "    test_predictions = model(X_test_device).cpu().numpy()\n",
        "\n",
        "# Convert back to original scale for better interpretation\n",
        "y_test_np = y_test_tensor.numpy()\n",
        "\n",
        "# Calculate regression metrics\n",
        "mse = mean_squared_error(y_test_np, test_predictions)\n",
        "rmse = np.sqrt(mse)\n",
        "mae = mean_absolute_error(y_test_np, test_predictions)\n",
        "r2 = r2_score(y_test_np, test_predictions)\n",
        "\n",
        "print(\"Test Set Performance:\")\n",
        "print(f\"Mean Squared Error (MSE): {mse:.2f}\")\n",
        "print(f\"Root Mean Squared Error (RMSE): {rmse:.2f}\")\n",
        "print(f\"Mean Absolute Error (MAE): {mae:.2f}\")\n",
        "print(f\"R² Score: {r2:.4f}\")\n",
        "\n",
        "# Additional metrics\n",
        "print(f\"\\nAdditional Information:\")\n",
        "print(f\"Mean actual house value: ${y_test_np.mean():.2f}\")\n",
        "print(f\"Mean predicted house value: ${test_predictions.mean():.2f}\")\n",
        "print(f\"RMSE as percentage of mean: {(rmse / y_test_np.mean()) * 100:.2f}%\")"
      ]
    },
    {
      "cell_type": "markdown",
      "metadata": {
        "id": "8WYMq4iDsc0B"
      },
      "source": [
        "## 9️⃣ Visualization and Analysis\n",
        "\n",
        "**Task**: Create visualizations to analyze model performance and training progress.\n",
        "\n",
        "**Requirements**:\n",
        "- Plot training and validation loss curves\n",
        "- Analyze residuals"
      ]
    },
    {
      "cell_type": "code",
      "execution_count": 18,
      "metadata": {
        "id": "OA6DrrhBsdZu"
      },
      "outputs": [
        {
          "data": {
            "image/png": "[encoded data removed]",
            "text/plain": [
              "<Figure size 1500x500 with 2 Axes>"
            ]
          },
          "metadata": {},
          "output_type": "display_data"
        },
        {
          "name": "stdout",
          "output_type": "stream",
          "text": [
            "\n",
            "Sample Predictions:\n",
            "--------------------------------------------------\n",
            "Actual: $47,700.00 | Predicted: $58,448.28 | Error: $10,748.28\n",
            "Actual: $45,800.00 | Predicted: $141,839.05 | Error: $96,039.05\n",
            "Actual: $500,001.00 | Predicted: $390,839.47 | Error: $109,161.53\n",
            "Actual: $218,600.00 | Predicted: $265,091.53 | Error: $46,491.53\n",
            "Actual: $278,000.00 | Predicted: $309,016.50 | Error: $31,016.50\n",
            "Actual: $158,700.00 | Predicted: $190,499.52 | Error: $31,799.52\n",
            "Actual: $198,200.00 | Predicted: $255,934.86 | Error: $57,734.86\n",
            "Actual: $157,500.00 | Predicted: $188,334.91 | Error: $30,834.91\n",
            "Actual: $340,000.00 | Predicted: $288,354.75 | Error: $51,645.25\n",
            "Actual: $446,600.00 | Predicted: $400,156.97 | Error: $46,443.03\n"
          ]
        }
      ],
      "source": [
        "# Plot training and validation loss curves\n",
        "plt.figure(figsize=(15, 5))\n",
        "\n",
        "plt.subplot(1, 2, 1)\n",
        "plt.plot(train_losses, label='Training Loss', color='blue')\n",
        "plt.plot(val_losses, label='Validation Loss', color='red')\n",
        "plt.title('Training and Validation Loss')\n",
        "plt.xlabel('Epoch')\n",
        "plt.ylabel('Loss (MSE)')\n",
        "plt.legend()\n",
        "plt.grid(True)\n",
        "\n",
        "# Plot predictions vs actual values\n",
        "plt.subplot(1, 2, 2)\n",
        "plt.scatter(y_test_np, test_predictions, alpha=0.5)\n",
        "plt.plot([y_test_np.min(), y_test_np.max()], [y_test_np.min(), y_test_np.max()], 'r--', lw=2)\n",
        "plt.xlabel('Actual House Values')\n",
        "plt.ylabel('Predicted House Values')\n",
        "plt.title('Predictions vs Actual Values')\n",
        "plt.grid(True)\n",
        "\n",
        "plt.tight_layout()\n",
        "plt.show()\n",
        "\n",
        "# Show some sample predictions\n",
        "print(\"\\nSample Predictions:\")\n",
        "print(\"-\" * 50)\n",
        "for i in range(10):\n",
        "    actual = y_test_np[i][0]\n",
        "    predicted = test_predictions[i][0]\n",
        "    error = abs(actual - predicted)\n",
        "    print(f\"Actual: ${actual:,.2f} | Predicted: ${predicted:,.2f} | Error: ${error:,.2f}\")"
      ]
    },
    {
      "cell_type": "markdown",
      "metadata": {
        "id": "CNnMiAaKsg_C"
      },
      "source": [
        "## 📝 Evaluation Criteria\n",
        "\n",
        "Your homework will be evaluated based on:\n",
        "\n",
        "1. **Implementation Correctness (50%)**\n",
        "   - Proper neural network architecture\n",
        "   - Correct data preprocessing and feature engineering(if any)\n",
        "   - Working training loop with validation\n",
        "   - Appropriate loss function and optimizer\n",
        "\n",
        "2. **Model Performance (25%)**\n",
        "   - Reasonable regression metrics (RMSE, MAE, R²)\n",
        "   - Convergence during training\n",
        "   - Generalization to test set\n",
        "\n",
        "3. **Code Quality (25%)**\n",
        "   - Clean, readable code with comments\n",
        "   - Efficient implementation\n",
        "   - Good coding practices\n"
      ]
    }
  ],
  "metadata": {
    "colab": {
      "provenance": []
    },
    "kernelspec": {
      "display_name": "Python 3 (ipykernel)",
      "language": "python",
      "name": "python3"
    }
  },
  "nbformat": 4,
  "nbformat_minor": 0
}
