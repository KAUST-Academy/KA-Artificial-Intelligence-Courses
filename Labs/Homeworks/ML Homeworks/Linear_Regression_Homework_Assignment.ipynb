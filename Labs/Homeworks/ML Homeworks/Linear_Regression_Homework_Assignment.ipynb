{
  "cells": [
    {
      "cell_type": "markdown",
      "metadata": {
        "id": "y6OEytiztiCi"
      },
      "source": [
        "![image.png](https://i.imgur.com/a3uAqnb.png)\n",
        "\n",
        "# Linear Regression for Walmart Sales Forecasting - Homework Assignment\n",
        "\n",
        "In this homework, you will implement a **Linear Regression model** to predict weekly sales for Walmart stores using historical data. This project will help you understand the fundamentals of linear regression applied to time series forecasting.\n",
        "\n",
        "## 📌 Project Overview\n",
        "- **Task**: Predict weekly sales for Walmart stores\n",
        "- **Algorithm**: Linear Regression\n",
        "- **Dataset**: Walmart Store Sales dataset (provided)\n",
        "- **Goal**: Build an accurate regression model using scikit-learn or custom implementation\n",
        "\n",
        "## 📚 Learning Objectives\n",
        "By completing this assignment, you will:\n",
        "- Understand linear regression for forecasting problems\n",
        "- Learn data preprocessing and feature engineering for time series\n",
        "- Practice holiday feature creation and encoding\n",
        "- Learn about regression metrics and model evaluation\n",
        "- Understand train/test splitting for time series data"
      ]
    },
    {
      "cell_type": "markdown",
      "metadata": {
        "id": "fEJ_E7ZGkSRa"
      },
      "source": [
        "### Dataset Overview\n",
        "\n",
        "You are provided with a CSV file named **`Walmart_Store_sales.csv`**, containing weekly sales data from **February 5, 2010** to **November 1, 2012**. The dataset includes the following columns:\n",
        "\n",
        "1. **Store** — Store ID number\n",
        "2. **Date** — Week of the sales\n",
        "3. **Weekly\\_Sales** — Weekly sales amount for the given store\n",
        "4. **Holiday\\_Flag** — Whether the week included a major holiday\n",
        "\n",
        "   * `1` = Holiday week\n",
        "   * `0` = Non-holiday week\n",
        "5. **Temperature** — Temperature on the day of sale\n",
        "6. **Fuel\\_Price** — Cost of fuel in the region\n",
        "7. **CPI** — Consumer Price Index\n",
        "8. **Unemployment** — Unemployment rate in the region"
      ]
    },
    {
      "cell_type": "markdown",
      "metadata": {},
      "source": [
        "## 1️⃣ Initial Setup and Library Installation\n",
        "\n",
        "**Task**: Set up the environment and install necessary libraries."
      ]
    },
    {
      "cell_type": "code",
      "execution_count": 2,
      "metadata": {
        "id": "7uAMaDaamBP6"
      },
      "outputs": [],
      "source": [
        "from IPython.display import clear_output"
      ]
    },
    {
      "cell_type": "code",
      "execution_count": 3,
      "metadata": {
        "id": "vhGxkHdlmEiI"
      },
      "outputs": [],
      "source": [
        "# Incase you run this notebook outside colab (where the libraries aren't already pre-installed)\n",
        "\n",
        "# %pip install pandas\n",
        "# %pip install numpy\n",
        "# %pip install scikit-learn\n",
        "# %pip install matplotlib\n",
        "# %pip install seaborn\n",
        "\n",
        "clear_output()"
      ]
    },
    {
      "cell_type": "markdown",
      "metadata": {},
      "source": [
        "## 2️⃣ Import Libraries and Configuration\n",
        "\n",
        "**Task**: Import all necessary libraries and set up configuration parameters.\n",
        "\n",
        "**Requirements**:\n",
        "- Import data processing libraries (pandas, numpy)\n",
        "- Import scikit-learn modules for regression and metrics\n",
        "- Import visualization libraries\n",
        "- Set random seeds for reproducibility\n",
        "- Configure parameters for data splitting and model training"
      ]
    },
    {
      "cell_type": "code",
      "execution_count": 4,
      "metadata": {
        "id": "ceb3def3"
      },
      "outputs": [],
      "source": [
        "import pandas as pd\n",
        "import numpy as np\n",
        "import matplotlib.pyplot as plt\n",
        "import seaborn as sns\n",
        "from sklearn.linear_model import LinearRegression\n",
        "from sklearn.model_selection import train_test_split\n",
        "from sklearn.preprocessing import StandardScaler, LabelEncoder\n",
        "from sklearn.metrics import mean_absolute_error, mean_squared_error, r2_score\n",
        "from datetime import datetime\n",
        "import warnings\n",
        "warnings.filterwarnings('ignore')"
      ]
    },
    {
      "cell_type": "code",
      "execution_count": 6,
      "metadata": {
        "id": "4d1325e8"
      },
      "outputs": [],
      "source": [
        "# Set random seed for reproducibility\n",
        "np.random.seed(42)\n",
        "\n",
        "# Configuration parameters\n",
        "TEST_SIZE = 0.2              # Test set size (80:20 split)\n",
        "RANDOM_STATE = 42           # Random state for reproducibility\n",
        "SCALE_FEATURES = True       # Whether to scale features\n",
        "PLOT_STYLE = 'seaborn'      # Plotting style"
      ]
    },
    {
      "cell_type": "markdown",
      "metadata": {},
      "source": [
        "## 3️⃣ Data Loading and Exploration\n",
        "\n",
        "**Task**: Load the Walmart sales dataset and explore its structure.\n",
        "\n",
        "**Requirements**:\n",
        "- Download and load the dataset\n",
        "- Display basic information about the data\n",
        "- Check for missing values and data types\n",
        "- Understand the features and target variable\n",
        "- Explore the date range and holiday patterns"
      ]
    },
    {
      "cell_type": "code",
      "execution_count": 7,
      "metadata": {},
      "outputs": [
        {
          "name": "stdout",
          "output_type": "stream",
          "text": [
            "Downloading from https://www.kaggle.com/api/v1/datasets/download/yasserh/walmart-dataset?dataset_version_number=1...\n"
          ]
        },
        {
          "name": "stderr",
          "output_type": "stream",
          "text": [
            "100%|████████████████████████████████████████████████████████████████████████████████| 122k/122k [00:01<00:00, 66.1kB/s]"
          ]
        },
        {
          "name": "stdout",
          "output_type": "stream",
          "text": [
            "Extracting files...\n",
            "Path to dataset files: /home/ali/.cache/kagglehub/datasets/yasserh/walmart-dataset/versions/1\n"
          ]
        },
        {
          "name": "stderr",
          "output_type": "stream",
          "text": [
            "\n"
          ]
        }
      ],
      "source": [
        "import kagglehub\n",
        "\n",
        "# Download latest version\n",
        "path = kagglehub.dataset_download(\"yasserh/walmart-dataset\")\n",
        "\n",
        "print(\"Path to dataset files:\", path)"
      ]
    },
    {
      "cell_type": "code",
      "execution_count": null,
      "metadata": {},
      "outputs": [],
      "source": [
        "# TODO: Load the dataset\n",
        "data_df = None\n",
        "\n",
        "# TODO: Display basic information about the dataset"
      ]
    },
    {
      "cell_type": "code",
      "execution_count": null,
      "metadata": {},
      "outputs": [],
      "source": [
        "# TODO: Check the shape of the dataset\n",
        "\n",
        "# TODO: Display first few rows\n",
        "\n",
        "# TODO: Check data types and info"
      ]
    },
    {
      "cell_type": "code",
      "execution_count": null,
      "metadata": {},
      "outputs": [],
      "source": [
        "# TODO: Check for missing values\n",
        "\n",
        "# TODO: Display basic statistics\n",
        "\n",
        "# TODO: Check unique stores and date range"
      ]
    },
    {
      "cell_type": "markdown",
      "metadata": {},
      "source": [
        "## 4️⃣ Data Preprocessing and Feature Engineering\n",
        "\n",
        "**Task**: Clean and prepare the data for linear regression training.\n",
        "\n",
        "**Requirements**:\n",
        "- Handle missing values if any\n",
        "- Convert date column to datetime format\n",
        "- Create holiday type features based on specific dates\n",
        "- Extract time-based features from dates\n",
        "- Handle categorical variables\n",
        "- Prepare features and target variables"
      ]
    },
    {
      "cell_type": "code",
      "execution_count": null,
      "metadata": {},
      "outputs": [],
      "source": [
        "# TODO: Create a copy of the data for preprocessing\n",
        "processed_data = None\n",
        "\n",
        "# TODO: Convert Date column to datetime format\n",
        "\n",
        "# TODO: Handle any missing values"
      ]
    },
    {
      "cell_type": "code",
      "execution_count": null,
      "metadata": {},
      "outputs": [],
      "source": [
        "# TODO: Create holiday mapping function\n",
        "def get_holiday_type(date):\n",
        "    \"\"\"\n",
        "    Map dates to specific holiday types based on the given holiday dates:\n",
        "    - Super Bowl: 12-Feb-10, 11-Feb-11, 10-Feb-12, 8-Feb-13\n",
        "    - Labour Day: 10-Sep-10, 9-Sep-11, 7-Sep-12, 6-Sep-13  \n",
        "    - Thanksgiving: 26-Nov-10, 25-Nov-11, 23-Nov-12, 29-Nov-13\n",
        "    - Christmas: 31-Dec-10, 30-Dec-11, 28-Dec-12, 27-Dec-13\n",
        "    \"\"\"\n",
        "    # TODO: Implement holiday mapping logic\n",
        "    pass\n",
        "\n",
        "# TODO: Apply holiday mapping to create new feature"
      ]
    },
    {
      "cell_type": "code",
      "execution_count": null,
      "metadata": {},
      "outputs": [],
      "source": [
        "# TODO: Create additional time-based features (optional)\n",
        "# Examples: month, quarter, week of year, etc.\n",
        "\n",
        "# TODO: Encode categorical variables (holiday types)\n",
        "\n",
        "# TODO: Remove unnecessary columns (like original Date if converted)"
      ]
    },
    {
      "cell_type": "markdown",
      "metadata": {},
      "source": [
        "## 5️⃣ Data Splitting and Preprocessing\n",
        "\n",
        "**Task**: Split the data and prepare features for linear regression.\n",
        "\n",
        "**Requirements**:\n",
        "- Separate features from target variable\n",
        "- Split data into training and testing sets (80:20)\n",
        "- Scale features if necessary\n",
        "- Ensure proper data types for regression"
      ]
    },
    {
      "cell_type": "code",
      "execution_count": null,
      "metadata": {},
      "outputs": [],
      "source": [
        "# TODO: Separate features and target\n",
        "# Target variable: Weekly_Sales\n",
        "# Features: All other relevant columns\n",
        "\n",
        "X = None  # Features\n",
        "y = None  # Target\n",
        "\n",
        "# TODO: Display feature names and target info"
      ]
    },
    {
      "cell_type": "code",
      "execution_count": null,
      "metadata": {},
      "outputs": [],
      "source": [
        "# TODO: Split the data into training and testing sets\n",
        "\n",
        "X_train, X_test, y_train, y_test = None, None, None, None\n",
        "\n",
        "# TODO: Display split information"
      ]
    },
    {
      "cell_type": "code",
      "execution_count": null,
      "metadata": {},
      "outputs": [],
      "source": [
        "# TODO: Scale features if needed (optional but recommended)\n",
        "scaler = None\n",
        "\n",
        "# TODO: Apply scaling to training and test sets if using scaler\n",
        "\n",
        "# TODO: Display shapes of final datasets"
      ]
    },
    {
      "cell_type": "markdown",
      "metadata": {},
      "source": [
        "## 6️⃣ Model Training\n",
        "\n",
        "**Task**: Train a linear regression model on the prepared data.\n",
        "\n",
        "**Requirements**:\n",
        "- Initialize Linear Regression model\n",
        "- Train the model on training data\n",
        "- Display model coefficients and intercept"
      ]
    },
    {
      "cell_type": "code",
      "execution_count": null,
      "metadata": {},
      "outputs": [],
      "source": [
        "# TODO: Initialize Linear Regression model\n",
        "model = None\n",
        "\n",
        "# TODO: Train the model\n",
        "\n",
        "# TODO: Display model information (coefficients, intercept)"
      ]
    },
    {
      "cell_type": "markdown",
      "metadata": {},
      "source": [
        "## 7️⃣ Model Evaluation\n",
        "\n",
        "**Task**: Evaluate the trained model using appropriate regression metrics.\n",
        "\n",
        "**Requirements**:\n",
        "- Make predictions on both training and test sets\n",
        "- Calculate Mean Absolute Error (MAE)\n",
        "- Calculate Root Mean Squared Error (RMSE)\n",
        "- Calculate R-squared score\n",
        "- Compare training vs test performance"
      ]
    },
    {
      "cell_type": "code",
      "execution_count": null,
      "metadata": {},
      "outputs": [],
      "source": [
        "# TODO: Make predictions on training and test sets\n",
        "y_train_pred = None\n",
        "y_test_pred = None"
      ]
    },
    {
      "cell_type": "code",
      "execution_count": null,
      "metadata": {},
      "outputs": [],
      "source": [
        "# TODO: Calculate evaluation metrics for training set\n",
        "train_mae = None\n",
        "train_rmse = None\n",
        "train_r2 = None\n",
        "\n",
        "# TODO: Calculate evaluation metrics for test set  \n",
        "test_mae = None\n",
        "test_rmse = None\n",
        "test_r2 = None\n",
        "\n",
        "# TODO: Display results in a formatted way"
      ]
    },
    {
      "cell_type": "markdown",
      "metadata": {},
      "source": [
        "## 8️⃣ Visualization and Analysis\n",
        "\n",
        "**Task**: Create visualizations to analyze model performance and results.\n",
        "\n",
        "**Requirements**:\n",
        "- Plot predicted vs actual values\n",
        "- Visualize feature importance (coefficients)\n",
        "- Show sample predictions"
      ]
    },
    {
      "cell_type": "code",
      "execution_count": null,
      "metadata": {},
      "outputs": [],
      "source": [
        "# TODO: Create predicted vs actual scatter plot for test set\n",
        "\n",
        "# TODO: Add perfect prediction line for reference"
      ]
    },
    {
      "cell_type": "code",
      "execution_count": null,
      "metadata": {},
      "outputs": [],
      "source": [
        "# TODO: Visualize feature importance (model coefficients)\n",
        "\n",
        "# TODO: Create bar plot of feature coefficients"
      ]
    },
    {
      "cell_type": "code",
      "execution_count": null,
      "metadata": {},
      "outputs": [],
      "source": [
        "# TODO: Show sample predictions vs actual values\n",
        "\n",
        "# TODO: Display first 10 predictions with actual values in a nice format"
      ]
    },
    {
      "cell_type": "markdown",
      "metadata": {},
      "source": [
        "## 📝 Evaluation Criteria\n",
        "\n",
        "Your homework will be evaluated based on:\n",
        "\n",
        "1. **Implementation Correctness (50%)**\n",
        "   - Proper data preprocessing and cleaning\n",
        "   - Correct holiday feature engineering\n",
        "   - Working linear regression implementation\n",
        "   - Appropriate train/test splitting\n",
        "\n",
        "2. **Model Performance (25%)**\n",
        "   - Reasonable regression metrics (MAE, RMSE, R²)\n",
        "   - Proper model evaluation and interpretation\n",
        "   - Good generalization to test set\n",
        "\n",
        "3. **Code Quality and Analysis (25%)**\n",
        "   - Clean, readable code with comments\n",
        "   - Meaningful visualizations and analysis\n",
        "   - Proper interpretation of results\n",
        "   - Good coding practices and documentation"
      ]
    }
  ],
  "metadata": {
    "colab": {
      "provenance": []
    },
    "kernelspec": {
      "display_name": "Python 3 (ipykernel)",
      "language": "python",
      "name": "python3"
    },
    "language_info": {
      "codemirror_mode": {
        "name": "ipython",
        "version": 3
      },
      "file_extension": ".py",
      "mimetype": "text/x-python",
      "name": "python",
      "nbconvert_exporter": "python",
      "pygments_lexer": "ipython3",
      "version": "3.11.11"
    }
  },
  "nbformat": 4,
  "nbformat_minor": 0
}
