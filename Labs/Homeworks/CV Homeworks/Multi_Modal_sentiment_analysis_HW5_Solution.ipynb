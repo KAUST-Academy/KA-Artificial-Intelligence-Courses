{
 "nbformat": 4,
 "nbformat_minor": 0,
 "metadata": {
  "colab": {
   "provenance": [],
   "authorship_tag": "ABX9TyO6D4Do3UoQrHQasGRGvwzl"
  },
  "kernelspec": {
   "name": "python3",
   "display_name": "Python 3 (ipykernel)",
   "language": "python"
  },
  "language_info": {
   "name": "python"
  }
 },
 "cells": [
  {
   "metadata": {},
   "cell_type": "markdown",
   "source": "![image.png](https://i.imgur.com/a3uAqnb.png)"
  },
  {
   "cell_type": "markdown",
   "source": [
    "# Multi-Modal Sentiment Analysis - Homework Assignment\n",
    "\n",
    "![Combined Model Architecture](https://i.imgur.com/RVYyBe7.jpeg)\n",
    "\n",
    "In this homework, you will build and compare three different models for sentiment analysis on a dataset of tweets, each containing both an image and text.\n",
    "\n",
    "## 📌 Project Overview\n",
    "- **Task**: Classify the sentiment of a tweet (positive, negative, or neutral) using its text, its image, and a combination of both.\n",
    "- **Architecture**:\n",
    "    1. An image-only model (CNN).\n",
    "    2. A text-only model (RNN/LSTM/GRU).\n",
    "    3. A combined, multi-modal model that fuses features from the two.\n",
    "- **Dataset**: MVSA (Multi-view Social Data)\n",
    "- **Goal**: Compare the performance of unimodal vs. multi-modal approaches for sentiment analysis.\n",
    "\n",
    "## 📚 Learning Objectives\n",
    "By completing this assignment, you will:\n",
    "- Understand how to process a mixed-media dataset (images and text).\n",
    "- Implement a CNN for image classification.\n",
    "- Build an RNN/LSTM for text classification.\n",
    "- Construct a multi-modal architecture by combining feature extractors.\n",
    "- Evaluate and compare the performance of different models on the same task."
   ],
   "metadata": {
    "id": "mDwrM_Td-iwB"
   }
  },
  {
   "metadata": {},
   "cell_type": "markdown",
   "source": [
    "## 1️⃣ Dataset Setup (PROVIDED)\n",
    "\n",
    "The MVSA dataset has been downloaded for you. The dataset structure is as follows:\n",
    "- `labelResultAll.txt`: A file containing the labels for each data point. The format is `tweet_id,label`.\n",
    "- `data/`: A folder containing all the image (`.jpg`) and text (`.txt`) files, named by their tweet ID."
   ]
  },
  {
   "cell_type": "code",
   "metadata": {
    "id": "T9sfwiYP0w7H",
    "colab": {
     "base_uri": "https://localhost:8080/"
    },
    "executionInfo": {
     "status": "ok",
     "timestamp": 1720777860678,
     "user_tz": -60,
     "elapsed": 2601,
     "user": {
      "displayName": "Muhammad Mubashar",
      "userId": "14515435323579848862"
     }
    },
    "outputId": "5a53cbde-80a5-41f0-f6bb-9d19c37bed07",
    "ExecuteTime": {
     "end_time": "2025-07-11T22:42:18.692791Z",
     "start_time": "2025-07-11T22:42:18.113296Z"
    }
   },
   "source": [
    "import kagglehub\n",
    "import os\n",
    "from dotenv import load_dotenv\n",
    "\n",
    "# Dataset already downloaded and prepared\n",
    "load_dotenv()\n",
    "path = kagglehub.dataset_download(\"vincemarcs/mvsasingle\")\n",
    "print(\"Path to dataset files:\", path)\n",
    "\n",
    "# Let's check the contents\n",
    "print(\"\\nContents of MVSA_Single:\")\n",
    "print(os.listdir(os.path.join(path, 'MVSA_Single')))\n",
    "\n",
    "print(\"\\nSample of files in the data folder:\")\n",
    "print(os.listdir(os.path.join(path, 'MVSA_Single', 'data'))[:5])"
   ],
   "outputs": [
    {
     "name": "stdout",
     "output_type": "stream",
     "text": [
      "Path to dataset files: /home/ali/.cache/kagglehub/datasets/vincemarcs/mvsasingle/versions/1\n",
      "\n",
      "Contents of MVSA_Single:\n",
      "['data', 'labelResultAll.txt']\n",
      "\n",
      "Sample of files in the data folder:\n",
      "['3033.jpg', '1951.txt', '1304.txt', '3070.jpg', '1149.txt']\n"
     ]
    }
   ],
   "execution_count": 1
  },
  {
   "metadata": {},
   "cell_type": "markdown",
   "source": [
    "## 2️⃣ Import Libraries and Configuration\n",
    "\n",
    "**Task**: Import all necessary libraries and set up configuration parameters.\n",
    "\n",
    "**Requirements**:\n",
    "- Import PyTorch, torchvision, pandas, and other utilities.\n",
    "- Import libraries for text processing and evaluation (e.g., NLTK, Scikit-learn).\n",
    "- Set random seeds for reproducibility.\n",
    "- Configure hyperparameters with reasonable values."
   ]
  },
  {
   "metadata": {
    "ExecuteTime": {
     "end_time": "2025-07-11T22:42:21.547614Z",
     "start_time": "2025-07-11T22:42:20.161709Z"
    }
   },
   "cell_type": "code",
   "source": [
    "# Import all necessary libraries\n",
    "import torch\n",
    "import torch.nn as nn\n",
    "import torch.optim as optim\n",
    "from torch.utils.data import Dataset, DataLoader\n",
    "import torchvision\n",
    "from torchvision import models, transforms\n",
    "import pandas as pd\n",
    "import numpy as np\n",
    "import os\n",
    "from PIL import Image\n",
    "from collections import Counter\n",
    "from sklearn.model_selection import train_test_split\n",
    "from sklearn.metrics import accuracy_score, confusion_matrix\n",
    "import matplotlib.pyplot as plt\n",
    "import seaborn as sns\n",
    "from tqdm.notebook import tqdm\n",
    "\n",
    "# Set random seeds for reproducibility\n",
    "SEED = 42\n",
    "torch.manual_seed(SEED)\n",
    "np.random.seed(SEED)\n",
    "if torch.cuda.is_available():\n",
    "    torch.cuda.manual_seed(SEED)\n",
    "    torch.backends.cudnn.deterministic = True\n",
    "    torch.backends.cudnn.benchmark = False\n",
    "\n",
    "# Check device availability and print\n",
    "device = torch.device(\"cuda\" if torch.cuda.is_available() else \"cpu\")\n",
    "print(f\"Using device: {device}\")\n",
    "\n",
    "# Define configuration parameters:\n",
    "IMG_SIZE = 224 # Image size (e.g., for ResNet)\n",
    "BATCH_SIZE = 64 # Batch size\n",
    "LEARNING_RATE = 1e-4 # Learning rate\n",
    "NUM_EPOCHS = 10 # Number of training epochs\n",
    "VOCAB_SIZE = 20000 # Maximum vocabulary size for text\n",
    "MAX_LEN = 50 # Max sequence length for text"
   ],
   "outputs": [
    {
     "name": "stdout",
     "output_type": "stream",
     "text": [
      "Using device: cuda\n"
     ]
    }
   ],
   "execution_count": 2
  },
  {
   "metadata": {},
   "cell_type": "markdown",
   "source": [
    "## 3️⃣ Data Loading and Preprocessing\n",
    "\n",
    "**Task**: Load the labels, match them with their corresponding image and text files, and split the data.\n",
    "\n",
    "**Requirements**:\n",
    "- Read `labelResultAll.txt` into a pandas DataFrame.\n",
    "- Map labels from ('positive', 'negative', 'neutral') to (0, 1, 2).\n",
    "- Create a list of all data samples, where each sample is a tuple `(image_path, text_path, label)`.\n",
    "- Split this list into training and validation sets (e.g., 80:20 split)."
   ]
  },
  {
   "metadata": {
    "ExecuteTime": {
     "end_time": "2025-07-11T22:42:21.742785Z",
     "start_time": "2025-07-11T22:42:21.552838Z"
    }
   },
   "cell_type": "code",
   "source": [
    "# Construct the full path to the data and label files\n",
    "data_dir = os.path.join(path, 'MVSA_Single', 'data')\n",
    "label_file = os.path.join(path, 'MVSA_Single', 'labelResultAll.txt')\n",
    "\n",
    "# Read 'labelResultAll.txt' using pandas.\n",
    "# We'll use a comma separator and handle the first column's structure manually.\n",
    "df = pd.read_csv(label_file, header=None, names=['id_raw', 'label'])\n",
    "\n",
    "# Skip the original header row ('ID\\ttext', 'image')\n",
    "df = df.iloc[1:].reset_index(drop=True)\n",
    "\n",
    "# The actual ID is the number before the tab ('\\t') in the 'id_raw' column.\n",
    "# The label is in the 'label' column.\n",
    "df['id'] = df['id_raw'].apply(lambda x: x.split('\\t')[0])\n",
    "\n",
    "# Convert string labels ('positive', 'negative', 'neutral') to integer labels (0, 1, 2).\n",
    "label_map = {'positive': 0, 'negative': 1, 'neutral': 2}\n",
    "df['label_id'] = df['label'].map(label_map)\n",
    "\n",
    "# Remove rows with missing labels or IDs and ensure types are correct\n",
    "df.dropna(subset=['label_id', 'id'], inplace=True)\n",
    "df['label_id'] = df['label_id'].astype(int)\n",
    "\n",
    "# Create a list of all data samples. Each item should be a tuple:\n",
    "# (path_to_image, path_to_text, integer_label)\n",
    "all_samples = []\n",
    "for _, row in df.iterrows():\n",
    "    tweet_id = str(row['id'])\n",
    "    img_path = os.path.join(data_dir, f\"{tweet_id}.jpg\")\n",
    "    txt_path = os.path.join(data_dir, f\"{tweet_id}.txt\")\n",
    "\n",
    "    # Ensure both the image and text file exist before adding the sample\n",
    "    if os.path.exists(img_path) and os.path.exists(txt_path):\n",
    "        all_samples.append((img_path, txt_path, row['label_id']))\n",
    "\n",
    "# Split the data into training and validation sets using train_test_split from scikit-learn.\n",
    "# Use a test_size of 0.2 and a random_state of 42.\n",
    "train_samples, val_samples = train_test_split(\n",
    "    all_samples,\n",
    "    test_size=0.2,\n",
    "    random_state=SEED,\n",
    "    stratify=[s[2] for s in all_samples] # Stratify to maintain label distribution\n",
    ")\n",
    "\n",
    "# Print the number of samples in the training and validation sets.\n",
    "print(f\"Total valid samples found: {len(all_samples)}\")\n",
    "print(f\"Training samples: {len(train_samples)}\")\n",
    "print(f\"Validation samples: {len(val_samples)}\")"
   ],
   "outputs": [
    {
     "name": "stdout",
     "output_type": "stream",
     "text": [
      "Total valid samples found: 4869\n",
      "Training samples: 3895\n",
      "Validation samples: 974\n"
     ]
    }
   ],
   "execution_count": 3
  },
  {
   "metadata": {},
   "cell_type": "markdown",
   "source": [
    "## 4️⃣ Text and Image Transformations\n",
    "\n",
    "**Task**: Define the preprocessing pipelines for both images and text.\n",
    "\n",
    "**Requirements**:\n",
    "- For images: Define transforms to resize, convert to tensor, and normalize.\n",
    "- For text:\n",
    "    - Build a vocabulary from the training text data.\n",
    "    - Create a text pipeline function to tokenize, numericalize (convert tokens to integers), and pad sequences."
   ]
  },
  {
   "metadata": {
    "ExecuteTime": {
     "end_time": "2025-07-11T22:42:22.182187Z",
     "start_time": "2025-07-11T22:42:22.134041Z"
    }
   },
   "cell_type": "code",
   "source": [
    "# Define image transforms\n",
    "image_transform = transforms.Compose([\n",
    "    transforms.Resize((IMG_SIZE, IMG_SIZE)),\n",
    "    transforms.ToTensor(),\n",
    "    transforms.Normalize(mean=[0.485, 0.456, 0.406], std=[0.229, 0.224, 0.225]) # ImageNet stats\n",
    "])\n",
    "\n",
    "# Build the text vocabulary\n",
    "def tokenizer(text):\n",
    "    return text.lower().strip().split()\n",
    "\n",
    "word_counts = Counter()\n",
    "for _, txt_path, _ in train_samples:\n",
    "    try:\n",
    "        with open(txt_path, 'r', encoding='utf-8') as f:\n",
    "            word_counts.update(tokenizer(f.read()))\n",
    "    except Exception as e:\n",
    "        # Some text files might be empty or have encoding issues\n",
    "        pass\n",
    "\n",
    "# Create vocabulary mapping\n",
    "# Special tokens: <pad> for padding, <unk> for unknown words\n",
    "vocab = ['<pad>', '<unk>'] + [word for word, count in word_counts.most_common(VOCAB_SIZE - 2)]\n",
    "word_to_idx = {word: idx for idx, word in enumerate(vocab)}\n",
    "UNK_IDX = word_to_idx['<unk>']\n",
    "PAD_IDX = word_to_idx['<pad>']\n",
    "print(f\"Vocabulary size: {len(vocab)}\")\n",
    "\n",
    "\n",
    "# Define a text processing pipeline function\n",
    "def text_processing_pipeline(text_path):\n",
    "    try:\n",
    "        with open(text_path, 'r', encoding='utf-8') as f:\n",
    "            text = f.read()\n",
    "    except Exception as e:\n",
    "        text = \"\" # Return empty string on error\n",
    "\n",
    "    # 1. Tokenize\n",
    "    tokens = tokenizer(text)\n",
    "    # 2. Numericalize\n",
    "    numericalized = [word_to_idx.get(token, UNK_IDX) for token in tokens]\n",
    "    # 3. Pad/Truncate\n",
    "    if len(numericalized) < MAX_LEN:\n",
    "        numericalized += [PAD_IDX] * (MAX_LEN - len(numericalized))\n",
    "    else:\n",
    "        numericalized = numericalized[:MAX_LEN]\n",
    "\n",
    "    return torch.tensor(numericalized, dtype=torch.long)\n",
    "\n",
    "# Test the pipeline\n",
    "print(\"\\nSample processed text tensor:\")\n",
    "print(text_processing_pipeline(train_samples[0][1]))"
   ],
   "outputs": [
    {
     "name": "stdout",
     "output_type": "stream",
     "text": [
      "Vocabulary size: 14650\n",
      "\n",
      "Sample processed text tensor:\n",
      "tensor([1740, 1741, 1742,  731,  127, 1743,   34,   11,  127,  225,    3,  732,\n",
      "        1744, 1745,    0,    0,    0,    0,    0,    0,    0,    0,    0,    0,\n",
      "           0,    0,    0,    0,    0,    0,    0,    0,    0,    0,    0,    0,\n",
      "           0,    0,    0,    0,    0,    0,    0,    0,    0,    0,    0,    0,\n",
      "           0,    0])\n"
     ]
    }
   ],
   "execution_count": 4
  },
  {
   "metadata": {},
   "cell_type": "markdown",
   "source": [
    "## 5️⃣ Custom Dataset and DataLoaders\n",
    "\n",
    "**Task**: Create a custom Dataset class and set up DataLoaders.\n",
    "\n",
    "**Requirements**:\n",
    "- The `Dataset` should handle loading one sample (image, text, and label).\n",
    "- `__getitem__` should apply the image transforms and text processing pipeline.\n",
    "- Create `DataLoader` instances for both training and validation sets."
   ]
  },
  {
   "metadata": {
    "ExecuteTime": {
     "end_time": "2025-07-11T22:42:34.593006Z",
     "start_time": "2025-07-11T22:42:34.328599Z"
    }
   },
   "cell_type": "code",
   "source": [
    "# Create a MVSADataset class\n",
    "class MVSADataset(Dataset):\n",
    "    def __init__(self, data_samples, image_transform, text_pipeline):\n",
    "        self.data_samples = data_samples\n",
    "        self.image_transform = image_transform\n",
    "        self.text_pipeline = text_pipeline\n",
    "\n",
    "    def __len__(self):\n",
    "        return len(self.data_samples)\n",
    "\n",
    "    def __getitem__(self, idx):\n",
    "        img_path, txt_path, label = self.data_samples[idx]\n",
    "\n",
    "        # Load and transform image\n",
    "        try:\n",
    "            image = Image.open(img_path).convert('RGB')\n",
    "            processed_image = self.image_transform(image)\n",
    "        except Exception as e:\n",
    "            # Return a zero tensor if image is corrupt\n",
    "            processed_image = torch.zeros((3, IMG_SIZE, IMG_SIZE))\n",
    "\n",
    "        # Process text\n",
    "        processed_text = self.text_pipeline(txt_path)\n",
    "\n",
    "        return processed_image, processed_text, torch.tensor(label, dtype=torch.long)\n",
    "\n",
    "# Create train_dataset and val_dataset\n",
    "train_dataset = MVSADataset(train_samples, image_transform, text_processing_pipeline)\n",
    "val_dataset = MVSADataset(val_samples, image_transform, text_processing_pipeline)\n",
    "\n",
    "# Create train_loader and val_loader\n",
    "train_loader = DataLoader(train_dataset, batch_size=BATCH_SIZE, shuffle=True)\n",
    "val_loader = DataLoader(val_dataset, batch_size=BATCH_SIZE, shuffle=False)\n",
    "\n",
    "# Test one batch\n",
    "images, texts, labels = next(iter(train_loader))\n",
    "print(f\"Image batch shape: {images.shape}\")\n",
    "print(f\"Text batch shape: {texts.shape}\")\n",
    "print(f\"Labels batch shape: {labels.shape}\")"
   ],
   "outputs": [
    {
     "name": "stdout",
     "output_type": "stream",
     "text": [
      "Image batch shape: torch.Size([64, 3, 224, 224])\n",
      "Text batch shape: torch.Size([64, 50])\n",
      "Labels batch shape: torch.Size([64])\n"
     ]
    }
   ],
   "execution_count": 5
  },
  {
   "metadata": {},
   "cell_type": "markdown",
   "source": [
    "## 6️⃣ Part A: Image-Only Model (CNN)\n",
    "\n",
    "First, we will build, train, and evaluate a model that only uses the images to predict sentiment.\n",
    "\n",
    "### 6.1 Define the CNN Architecture\n",
    "**Task**: Create a CNN for image classification. A pre-trained model like ResNet is a good choice.\n",
    "\n",
    "**Requirements**:\n",
    "- Load a pre-trained ResNet (e.g., ResNet18).\n",
    "- Replace the final fully connected layer to match the number of sentiment classes (3)."
   ]
  },
  {
   "metadata": {
    "ExecuteTime": {
     "end_time": "2025-07-11T22:42:37.263156Z",
     "start_time": "2025-07-11T22:42:36.853710Z"
    }
   },
   "cell_type": "code",
   "source": [
    "# Define the ImageModel using a pre-trained ResNet18\n",
    "image_model = models.resnet18(weights=models.ResNet18_Weights.DEFAULT)\n",
    "\n",
    "# Freeze all the parameters in the pre-trained model\n",
    "for param in image_model.parameters():\n",
    "    param.requires_grad = False\n",
    "\n",
    "# Replace the final fully connected layer\n",
    "num_ftrs = image_model.fc.in_features\n",
    "image_model.fc = nn.Linear(num_ftrs, 3) # 3 classes: positive, negative, neutral\n",
    "\n",
    "# The new layer's parameters have requires_grad=True by default\n",
    "\n",
    "# Initialize the image model and move it to the device\n",
    "image_model = image_model.to(device)\n",
    "\n",
    "# Print the model architecture (optional)\n",
    "# print(image_model)\n",
    "\n",
    "# Count trainable parameters\n",
    "trainable_params = sum(p.numel() for p in image_model.parameters() if p.requires_grad)\n",
    "print(f\"Image model has {trainable_params:,} trainable parameters.\")"
   ],
   "outputs": [
    {
     "name": "stdout",
     "output_type": "stream",
     "text": [
      "Image model has 1,539 trainable parameters.\n"
     ]
    }
   ],
   "execution_count": 6
  },
  {
   "metadata": {},
   "cell_type": "markdown",
   "source": [
    "### 6.2 Train and Evaluate the Image Model\n",
    "**Task**: Write the training and evaluation loop for the image-only model.\n",
    "\n",
    "**Requirements**:\n",
    "- Set up the loss function (CrossEntropyLoss) and optimizer (Adam).\n",
    "- Loop through epochs and batches to train the model.\n",
    "- After training, evaluate the model's performance on the validation set.\n",
    "- Calculate and display the final accuracy and a confusion matrix."
   ]
  },
  {
   "metadata": {
    "ExecuteTime": {
     "end_time": "2025-07-11T22:42:46.053939Z",
     "start_time": "2025-07-11T22:42:46.048732Z"
    }
   },
   "cell_type": "code",
   "source": [
    "# --- Generic Evaluation Function ---\n",
    "def evaluate_model(model, data_loader, model_type=\"image\"):\n",
    "    model.eval()\n",
    "    all_preds = []\n",
    "    all_labels = []\n",
    "    with torch.no_grad():\n",
    "        for images, texts, labels in data_loader:\n",
    "            images, labels = images.to(device), labels.to(device)\n",
    "            texts = texts.to(device)\n",
    "\n",
    "            if model_type == \"image\":\n",
    "                outputs = model(images)\n",
    "            elif model_type == \"text\":\n",
    "                outputs = model(texts)\n",
    "            else: # multimodal\n",
    "                outputs = model(images, texts)\n",
    "\n",
    "            _, predicted = torch.max(outputs, 1)\n",
    "            all_preds.extend(predicted.cpu().numpy())\n",
    "            all_labels.extend(labels.cpu().numpy())\n",
    "\n",
    "    accuracy = accuracy_score(all_labels, all_preds)\n",
    "    cm = confusion_matrix(all_labels, all_preds)\n",
    "    return accuracy, cm"
   ],
   "outputs": [],
   "execution_count": 7
  },
  {
   "metadata": {
    "ExecuteTime": {
     "end_time": "2025-07-11T22:42:47.161943Z",
     "start_time": "2025-07-11T22:42:47.157707Z"
    }
   },
   "cell_type": "code",
   "source": [
    "# Instantiate the loss function and optimizer\n",
    "criterion = nn.CrossEntropyLoss()\n",
    "# Only optimize the parameters of the new final layer\n",
    "optimizer = optim.AdamW(image_model.fc.parameters(), lr=LEARNING_RATE)"
   ],
   "outputs": [],
   "execution_count": 8
  },
  {
   "metadata": {
    "ExecuteTime": {
     "end_time": "2025-07-11T22:45:35.339703Z",
     "start_time": "2025-07-11T22:42:51.284397Z"
    }
   },
   "cell_type": "code",
   "source": [
    "# --- Training Loop for Image Model ---\n",
    "print(\"Training Image-Only Model...\")\n",
    "for epoch in range(NUM_EPOCHS):\n",
    "    image_model.train()\n",
    "    running_loss = 0.0\n",
    "    for images, _, labels in tqdm(train_loader, desc=f\"Epoch {epoch+1}/{NUM_EPOCHS}\"):\n",
    "        images, labels = images.to(device), labels.to(device)\n",
    "\n",
    "        optimizer.zero_grad()\n",
    "        outputs = image_model(images)\n",
    "        loss = criterion(outputs, labels)\n",
    "        loss.backward()\n",
    "        optimizer.step()\n",
    "        running_loss += loss.item()\n",
    "\n",
    "    print(f\"Epoch {epoch+1}, Loss: {running_loss/len(train_loader):.4f}\")"
   ],
   "outputs": [
    {
     "name": "stdout",
     "output_type": "stream",
     "text": [
      "Training Image-Only Model...\n"
     ]
    },
    {
     "data": {
      "text/plain": [
       "Epoch 1/10:   0%|          | 0/61 [00:00<?, ?it/s]"
      ],
      "application/vnd.jupyter.widget-view+json": {
       "version_major": 2,
       "version_minor": 0,
       "model_id": "b0d3bba67b9e4008a1e8ee9cfb848660"
      }
     },
     "metadata": {},
     "output_type": "display_data"
    },
    {
     "name": "stdout",
     "output_type": "stream",
     "text": [
      "Epoch 1, Loss: 1.0618\n"
     ]
    },
    {
     "data": {
      "text/plain": [
       "Epoch 2/10:   0%|          | 0/61 [00:00<?, ?it/s]"
      ],
      "application/vnd.jupyter.widget-view+json": {
       "version_major": 2,
       "version_minor": 0,
       "model_id": "a394164db3404c1fb404ba86c77e9db6"
      }
     },
     "metadata": {},
     "output_type": "display_data"
    },
    {
     "name": "stdout",
     "output_type": "stream",
     "text": [
      "Epoch 2, Loss: 1.0100\n"
     ]
    },
    {
     "data": {
      "text/plain": [
       "Epoch 3/10:   0%|          | 0/61 [00:00<?, ?it/s]"
      ],
      "application/vnd.jupyter.widget-view+json": {
       "version_major": 2,
       "version_minor": 0,
       "model_id": "dce45583d5644d66874bad221730923a"
      }
     },
     "metadata": {},
     "output_type": "display_data"
    },
    {
     "name": "stdout",
     "output_type": "stream",
     "text": [
      "Epoch 3, Loss: 0.9752\n"
     ]
    },
    {
     "data": {
      "text/plain": [
       "Epoch 4/10:   0%|          | 0/61 [00:00<?, ?it/s]"
      ],
      "application/vnd.jupyter.widget-view+json": {
       "version_major": 2,
       "version_minor": 0,
       "model_id": "3afbb9c69a5c4809aa2c4578b7dfc6a4"
      }
     },
     "metadata": {},
     "output_type": "display_data"
    },
    {
     "name": "stdout",
     "output_type": "stream",
     "text": [
      "Epoch 4, Loss: 0.9462\n"
     ]
    },
    {
     "data": {
      "text/plain": [
       "Epoch 5/10:   0%|          | 0/61 [00:00<?, ?it/s]"
      ],
      "application/vnd.jupyter.widget-view+json": {
       "version_major": 2,
       "version_minor": 0,
       "model_id": "c2eed3c6e2994d9c9b6e48ea14cefd32"
      }
     },
     "metadata": {},
     "output_type": "display_data"
    },
    {
     "name": "stdout",
     "output_type": "stream",
     "text": [
      "Epoch 5, Loss: 0.9304\n"
     ]
    },
    {
     "data": {
      "text/plain": [
       "Epoch 6/10:   0%|          | 0/61 [00:00<?, ?it/s]"
      ],
      "application/vnd.jupyter.widget-view+json": {
       "version_major": 2,
       "version_minor": 0,
       "model_id": "fd94215d52174efd98e0f77c85c7d03e"
      }
     },
     "metadata": {},
     "output_type": "display_data"
    },
    {
     "name": "stdout",
     "output_type": "stream",
     "text": [
      "Epoch 6, Loss: 0.9126\n"
     ]
    },
    {
     "data": {
      "text/plain": [
       "Epoch 7/10:   0%|          | 0/61 [00:00<?, ?it/s]"
      ],
      "application/vnd.jupyter.widget-view+json": {
       "version_major": 2,
       "version_minor": 0,
       "model_id": "edf171a8b4384750afd0df03fcd7bd4e"
      }
     },
     "metadata": {},
     "output_type": "display_data"
    },
    {
     "name": "stdout",
     "output_type": "stream",
     "text": [
      "Epoch 7, Loss: 0.8979\n"
     ]
    },
    {
     "data": {
      "text/plain": [
       "Epoch 8/10:   0%|          | 0/61 [00:00<?, ?it/s]"
      ],
      "application/vnd.jupyter.widget-view+json": {
       "version_major": 2,
       "version_minor": 0,
       "model_id": "e7ac14cd9a0d4f74be2a70676ea454cd"
      }
     },
     "metadata": {},
     "output_type": "display_data"
    },
    {
     "name": "stdout",
     "output_type": "stream",
     "text": [
      "Epoch 8, Loss: 0.8877\n"
     ]
    },
    {
     "data": {
      "text/plain": [
       "Epoch 9/10:   0%|          | 0/61 [00:00<?, ?it/s]"
      ],
      "application/vnd.jupyter.widget-view+json": {
       "version_major": 2,
       "version_minor": 0,
       "model_id": "1a5ac8c6ccc0484f811506684dc3e99a"
      }
     },
     "metadata": {},
     "output_type": "display_data"
    },
    {
     "name": "stdout",
     "output_type": "stream",
     "text": [
      "Epoch 9, Loss: 0.8759\n"
     ]
    },
    {
     "data": {
      "text/plain": [
       "Epoch 10/10:   0%|          | 0/61 [00:00<?, ?it/s]"
      ],
      "application/vnd.jupyter.widget-view+json": {
       "version_major": 2,
       "version_minor": 0,
       "model_id": "d1043ed7813a4ffc9ebe6b25e4907ce5"
      }
     },
     "metadata": {},
     "output_type": "display_data"
    },
    {
     "name": "stdout",
     "output_type": "stream",
     "text": [
      "Epoch 10, Loss: 0.8693\n"
     ]
    }
   ],
   "execution_count": 9
  },
  {
   "metadata": {
    "ExecuteTime": {
     "end_time": "2025-07-11T22:45:39.888042Z",
     "start_time": "2025-07-11T22:45:35.456521Z"
    }
   },
   "cell_type": "code",
   "source": [
    "# --- Evaluation ---\n",
    "image_acc, image_cm = evaluate_model(image_model, val_loader, model_type=\"image\")\n",
    "print(f\"\\nImage Model Validation Accuracy: {image_acc:.4f}\")"
   ],
   "outputs": [
    {
     "name": "stdout",
     "output_type": "stream",
     "text": [
      "\n",
      "Image Model Validation Accuracy: 0.5893\n"
     ]
    }
   ],
   "execution_count": 10
  },
  {
   "metadata": {
    "ExecuteTime": {
     "end_time": "2025-07-11T22:45:40.060875Z",
     "start_time": "2025-07-11T22:45:39.969094Z"
    }
   },
   "cell_type": "code",
   "source": [
    "# Plotting the confusion matrix\n",
    "plt.figure(figsize=(6, 5))\n",
    "sns.heatmap(image_cm, annot=True, fmt='d', cmap='Blues',\n",
    "            xticklabels=label_map.keys(), yticklabels=label_map.keys())\n",
    "plt.title('Image Model Confusion Matrix')\n",
    "plt.xlabel('Predicted')\n",
    "plt.ylabel('True')\n",
    "plt.show()"
   ],
   "outputs": [
    {
     "data": {
      "text/plain": [
       "<Figure size 600x500 with 2 Axes>"
      ],
      "image/png": "[encoded data removed]"
     },
     "metadata": {},
     "output_type": "display_data"
    }
   ],
   "execution_count": 11
  },
  {
   "metadata": {},
   "cell_type": "markdown",
   "source": [
    "## 7️⃣ Part B: Text-Only Model (RNN/LSTM)\n",
    "\n",
    "Next, we will build a model that uses only the text from the tweets.\n",
    "\n",
    "### 7.1 Define the RNN/LSTM Architecture\n",
    "**Task**: Create a text classification model using an Embedding layer and an LSTM/GRU layer.\n",
    "\n",
    "**Requirements**:\n",
    "- An `nn.Embedding` layer to convert word indices to dense vectors.\n",
    "- An `nn.LSTM` or `nn.GRU` layer to process the sequence.\n",
    "- A final `nn.Linear` layer to produce class scores."
   ]
  },
  {
   "metadata": {
    "ExecuteTime": {
     "end_time": "2025-07-11T22:45:53.779233Z",
     "start_time": "2025-07-11T22:45:53.775146Z"
    }
   },
   "cell_type": "code",
   "source": [
    "# Define the TextModel class\n",
    "class TextModel(nn.Module):\n",
    "    def __init__(self, vocab_size, embedding_dim, hidden_dim, output_dim, pad_idx):\n",
    "        super().__init__()\n",
    "        # Embedding layer\n",
    "        self.embedding = nn.Embedding(vocab_size, embedding_dim, padding_idx=pad_idx)\n",
    "        # LSTM layer\n",
    "        self.lstm = nn.LSTM(embedding_dim, hidden_dim, num_layers=2,\n",
    "                            bidirectional=True, batch_first=True, dropout=0.5)\n",
    "        # Final fully connected layer\n",
    "        self.fc = nn.Linear(hidden_dim * 2, output_dim) # *2 for bidirectional\n",
    "        self.dropout = nn.Dropout(0.5)\n",
    "\n",
    "    def forward(self, text):\n",
    "        # text = [batch size, seq len]\n",
    "        embedded = self.dropout(self.embedding(text))\n",
    "        # embedded = [batch size, seq len, emb dim]\n",
    "\n",
    "        # pack sequence to handle padding\n",
    "        # packed_embedded = nn.utils.rnn.pack_padded_sequence(embedded, text_lengths.to('cpu'), batch_first=True, enforce_sorted=False)\n",
    "\n",
    "        packed_output, (hidden, cell) = self.lstm(embedded)\n",
    "        # hidden = [num layers * num directions, batch size, hid dim]\n",
    "\n",
    "        # Concatenate the final forward and backward hidden states\n",
    "        hidden = self.dropout(torch.cat((hidden[-2,:,:], hidden[-1,:,:]), dim=1))\n",
    "        # hidden = [batch size, hid dim * 2]\n",
    "\n",
    "        return self.fc(hidden)"
   ],
   "outputs": [],
   "execution_count": 12
  },
  {
   "metadata": {
    "ExecuteTime": {
     "end_time": "2025-07-11T22:45:55.352419Z",
     "start_time": "2025-07-11T22:45:55.317595Z"
    }
   },
   "cell_type": "code",
   "source": [
    "# Initialize the text model\n",
    "EMBEDDING_DIM = 100\n",
    "HIDDEN_DIM = 256\n",
    "text_model = TextModel(\n",
    "    vocab_size=len(vocab),\n",
    "    embedding_dim=EMBEDDING_DIM,\n",
    "    hidden_dim=HIDDEN_DIM,\n",
    "    output_dim=3,\n",
    "    pad_idx=PAD_IDX\n",
    ").to(device)\n",
    "\n",
    "# Print the model architecture\n",
    "# print(text_model)\n",
    "\n",
    "# Count trainable parameters\n",
    "trainable_params = sum(p.numel() for p in text_model.parameters() if p.requires_grad)\n",
    "print(f\"Text model has {trainable_params:,} trainable parameters.\")"
   ],
   "outputs": [
    {
     "name": "stdout",
     "output_type": "stream",
     "text": [
      "Text model has 3,776,683 trainable parameters.\n"
     ]
    }
   ],
   "execution_count": 13
  },
  {
   "metadata": {},
   "cell_type": "markdown",
   "source": [
    "### 7.2 Train and Evaluate the Text Model\n",
    "**Task**: Train and evaluate the text-only model using the same process as before."
   ]
  },
  {
   "metadata": {
    "ExecuteTime": {
     "end_time": "2025-07-11T22:48:36.961731Z",
     "start_time": "2025-07-11T22:46:02.554592Z"
    }
   },
   "cell_type": "code",
   "source": [
    "# Instantiate the loss function and optimizer for the text model\n",
    "criterion = nn.CrossEntropyLoss()\n",
    "optimizer = optim.AdamW(text_model.parameters(), lr=LEARNING_RATE)\n",
    "\n",
    "# --- Training Loop for Text Model ---\n",
    "print(\"Training Text-Only Model...\")\n",
    "for epoch in range(NUM_EPOCHS):\n",
    "    text_model.train()\n",
    "    running_loss = 0.0\n",
    "    for _, texts, labels in tqdm(train_loader, desc=f\"Epoch {epoch+1}/{NUM_EPOCHS}\"):\n",
    "        texts, labels = texts.to(device), labels.to(device)\n",
    "\n",
    "        optimizer.zero_grad()\n",
    "        outputs = text_model(texts)\n",
    "        loss = criterion(outputs, labels)\n",
    "        loss.backward()\n",
    "        optimizer.step()\n",
    "        running_loss += loss.item()\n",
    "\n",
    "    print(f\"Epoch {epoch+1}, Loss: {running_loss/len(train_loader):.4f}\")"
   ],
   "outputs": [
    {
     "name": "stdout",
     "output_type": "stream",
     "text": [
      "Training Text-Only Model...\n"
     ]
    },
    {
     "data": {
      "text/plain": [
       "Epoch 1/10:   0%|          | 0/61 [00:00<?, ?it/s]"
      ],
      "application/vnd.jupyter.widget-view+json": {
       "version_major": 2,
       "version_minor": 0,
       "model_id": "01b9e32cb85c4a47b6f3d107cc9385eb"
      }
     },
     "metadata": {},
     "output_type": "display_data"
    },
    {
     "name": "stdout",
     "output_type": "stream",
     "text": [
      "Epoch 1, Loss: 1.0195\n"
     ]
    },
    {
     "data": {
      "text/plain": [
       "Epoch 2/10:   0%|          | 0/61 [00:00<?, ?it/s]"
      ],
      "application/vnd.jupyter.widget-view+json": {
       "version_major": 2,
       "version_minor": 0,
       "model_id": "f0e80853c409414695661d527e58b7af"
      }
     },
     "metadata": {},
     "output_type": "display_data"
    },
    {
     "name": "stdout",
     "output_type": "stream",
     "text": [
      "Epoch 2, Loss: 0.9914\n"
     ]
    },
    {
     "data": {
      "text/plain": [
       "Epoch 3/10:   0%|          | 0/61 [00:00<?, ?it/s]"
      ],
      "application/vnd.jupyter.widget-view+json": {
       "version_major": 2,
       "version_minor": 0,
       "model_id": "83d98c66bc5441ef8125c7d072bac1be"
      }
     },
     "metadata": {},
     "output_type": "display_data"
    },
    {
     "name": "stdout",
     "output_type": "stream",
     "text": [
      "Epoch 3, Loss: 0.9873\n"
     ]
    },
    {
     "data": {
      "text/plain": [
       "Epoch 4/10:   0%|          | 0/61 [00:00<?, ?it/s]"
      ],
      "application/vnd.jupyter.widget-view+json": {
       "version_major": 2,
       "version_minor": 0,
       "model_id": "056c077d1a984fc7b54204fd85057d6b"
      }
     },
     "metadata": {},
     "output_type": "display_data"
    },
    {
     "name": "stdout",
     "output_type": "stream",
     "text": [
      "Epoch 4, Loss: 0.9865\n"
     ]
    },
    {
     "data": {
      "text/plain": [
       "Epoch 5/10:   0%|          | 0/61 [00:00<?, ?it/s]"
      ],
      "application/vnd.jupyter.widget-view+json": {
       "version_major": 2,
       "version_minor": 0,
       "model_id": "5c6c943369254ea2902083aad70ddf19"
      }
     },
     "metadata": {},
     "output_type": "display_data"
    },
    {
     "name": "stdout",
     "output_type": "stream",
     "text": [
      "Epoch 5, Loss: 0.9834\n"
     ]
    },
    {
     "data": {
      "text/plain": [
       "Epoch 6/10:   0%|          | 0/61 [00:00<?, ?it/s]"
      ],
      "application/vnd.jupyter.widget-view+json": {
       "version_major": 2,
       "version_minor": 0,
       "model_id": "b2501ddd6f264442a11dd126a5412e16"
      }
     },
     "metadata": {},
     "output_type": "display_data"
    },
    {
     "name": "stdout",
     "output_type": "stream",
     "text": [
      "Epoch 6, Loss: 0.9821\n"
     ]
    },
    {
     "data": {
      "text/plain": [
       "Epoch 7/10:   0%|          | 0/61 [00:00<?, ?it/s]"
      ],
      "application/vnd.jupyter.widget-view+json": {
       "version_major": 2,
       "version_minor": 0,
       "model_id": "b63da4776b464ee3aa46d5df3159286e"
      }
     },
     "metadata": {},
     "output_type": "display_data"
    },
    {
     "name": "stdout",
     "output_type": "stream",
     "text": [
      "Epoch 7, Loss: 0.9757\n"
     ]
    },
    {
     "data": {
      "text/plain": [
       "Epoch 8/10:   0%|          | 0/61 [00:00<?, ?it/s]"
      ],
      "application/vnd.jupyter.widget-view+json": {
       "version_major": 2,
       "version_minor": 0,
       "model_id": "fbf78f07fed1488c895f73bb9237d5b5"
      }
     },
     "metadata": {},
     "output_type": "display_data"
    },
    {
     "name": "stdout",
     "output_type": "stream",
     "text": [
      "Epoch 8, Loss: 0.9725\n"
     ]
    },
    {
     "data": {
      "text/plain": [
       "Epoch 9/10:   0%|          | 0/61 [00:00<?, ?it/s]"
      ],
      "application/vnd.jupyter.widget-view+json": {
       "version_major": 2,
       "version_minor": 0,
       "model_id": "dcf21a00351a48bcb596e3e3505f7f92"
      }
     },
     "metadata": {},
     "output_type": "display_data"
    },
    {
     "name": "stdout",
     "output_type": "stream",
     "text": [
      "Epoch 9, Loss: 0.9658\n"
     ]
    },
    {
     "data": {
      "text/plain": [
       "Epoch 10/10:   0%|          | 0/61 [00:00<?, ?it/s]"
      ],
      "application/vnd.jupyter.widget-view+json": {
       "version_major": 2,
       "version_minor": 0,
       "model_id": "ea54c2eb7fef48e59229cbc56ac2767a"
      }
     },
     "metadata": {},
     "output_type": "display_data"
    },
    {
     "name": "stdout",
     "output_type": "stream",
     "text": [
      "Epoch 10, Loss: 0.9659\n"
     ]
    }
   ],
   "execution_count": 14
  },
  {
   "metadata": {
    "ExecuteTime": {
     "end_time": "2025-07-11T22:48:47.812176Z",
     "start_time": "2025-07-11T22:48:43.652686Z"
    }
   },
   "cell_type": "code",
   "source": [
    "# --- Evaluation ---\n",
    "text_acc, text_cm = evaluate_model(text_model, val_loader, model_type=\"text\")\n",
    "print(f\"\\nText Model Validation Accuracy: {text_acc:.4f}\")"
   ],
   "outputs": [
    {
     "name": "stdout",
     "output_type": "stream",
     "text": [
      "\n",
      "Text Model Validation Accuracy: 0.5462\n"
     ]
    }
   ],
   "execution_count": 15
  },
  {
   "metadata": {
    "ExecuteTime": {
     "end_time": "2025-07-11T22:48:47.901491Z",
     "start_time": "2025-07-11T22:48:47.817237Z"
    }
   },
   "cell_type": "code",
   "source": [
    "# Plotting the confusion matrix\n",
    "plt.figure(figsize=(6, 5))\n",
    "sns.heatmap(text_cm, annot=True, fmt='d', cmap='Blues',\n",
    "            xticklabels=label_map.keys(), yticklabels=label_map.keys())\n",
    "plt.title('Text Model Confusion Matrix')\n",
    "plt.xlabel('Predicted')\n",
    "plt.ylabel('True')\n",
    "plt.show()"
   ],
   "outputs": [
    {
     "data": {
      "text/plain": [
       "<Figure size 600x500 with 2 Axes>"
      ],
      "image/png": "[encoded data removed]"
     },
     "metadata": {},
     "output_type": "display_data"
    }
   ],
   "execution_count": 16
  },
  {
   "metadata": {},
   "cell_type": "markdown",
   "source": [
    "## 8️⃣ Part C: Combined Multimodal Model\n",
    "\n",
    "Finally, we'll combine the two feature extractors into a single, powerful model.\n",
    "\n",
    "### 8.1 Define the Multimodal Architecture\n",
    "**Task**: Create a model that takes both an image and text as input.\n",
    "\n",
    "**Requirements**:\n",
    "- Use the pre-trained image CNN (without its final classifier layer) as an image feature extractor.\n",
    "- Use the trained text model (without its final classifier layer) as a text feature extractor.\n",
    "- Concatenate the features from both branches.\n",
    "- Add one or more `nn.Linear` layers to classify the combined feature vector."
   ]
  },
  {
   "metadata": {
    "ExecuteTime": {
     "end_time": "2025-07-11T22:49:37.077775Z",
     "start_time": "2025-07-11T22:49:37.073101Z"
    }
   },
   "cell_type": "code",
   "source": [
    "# Define the MultiModalModel class\n",
    "class MultiModalModel(nn.Module):\n",
    "    def __init__(self, text_model, image_model):\n",
    "        super().__init__()\n",
    "        # Image feature extractor (ResNet without final FC layer)\n",
    "        self.image_features = nn.Sequential(*list(image_model.children())[:-1])\n",
    "        # Text feature extractor (TextModel without final FC layer)\n",
    "        self.text_features = text_model\n",
    "        # Freeze image model parameters\n",
    "        for param in self.image_features.parameters():\n",
    "            param.requires_grad = False\n",
    "\n",
    "        # Get feature dimensions\n",
    "        image_feature_dim = 512 # ResNet18 output\n",
    "        text_feature_dim = text_model.fc.in_features\n",
    "\n",
    "        # Classifier for combined features\n",
    "        self.classifier = nn.Sequential(\n",
    "            nn.Linear(image_feature_dim + text_feature_dim, 256),\n",
    "            nn.ReLU(),\n",
    "            nn.Dropout(0.5),\n",
    "            nn.Linear(256, 3)\n",
    "        )\n",
    "\n",
    "    def forward(self, image, text):\n",
    "        # Get image features\n",
    "        img_feats = self.image_features(image)\n",
    "        img_feats = img_feats.view(img_feats.size(0), -1) # Flatten\n",
    "\n",
    "        # Get text features (from the hidden state of the text model)\n",
    "        # We need to call the text model parts manually\n",
    "        embedded = self.text_features.dropout(self.text_features.embedding(text))\n",
    "        packed_output, (hidden, cell) = self.text_features.lstm(embedded)\n",
    "        txt_feats = self.text_features.dropout(torch.cat((hidden[-2,:,:], hidden[-1,:,:]), dim=1))\n",
    "\n",
    "        # Concatenate features\n",
    "        combined_feats = torch.cat((img_feats, txt_feats), dim=1)\n",
    "\n",
    "        # Classify\n",
    "        output = self.classifier(combined_feats)\n",
    "        return output\n",
    "\n"
   ],
   "outputs": [],
   "execution_count": 19
  },
  {
   "metadata": {
    "ExecuteTime": {
     "end_time": "2025-07-11T22:49:37.599782Z",
     "start_time": "2025-07-11T22:49:37.589036Z"
    }
   },
   "cell_type": "code",
   "source": [
    "# Initialize the multimodal model\n",
    "# Note: We pass instances of the previously defined models\n",
    "multimodal_model = MultiModalModel(text_model, image_model).to(device)\n",
    "\n",
    "# Count trainable parameters (should be text model + new classifier)\n",
    "trainable_params = sum(p.numel() for p in multimodal_model.parameters() if p.requires_grad)\n",
    "print(f\"Multimodal model has {trainable_params:,} trainable parameters.\")"
   ],
   "outputs": [
    {
     "name": "stdout",
     "output_type": "stream",
     "text": [
      "Multimodal model has 4,039,854 trainable parameters.\n"
     ]
    }
   ],
   "execution_count": 20
  },
  {
   "metadata": {},
   "cell_type": "markdown",
   "source": [
    "### 8.2 Train and Evaluate the Multimodal Model\n",
    "**Task**: Train and evaluate the final combined model."
   ]
  },
  {
   "metadata": {
    "ExecuteTime": {
     "end_time": "2025-07-11T22:52:25.953701Z",
     "start_time": "2025-07-11T22:49:41.781598Z"
    }
   },
   "cell_type": "code",
   "source": [
    "# Instantiate the loss function and optimizer for the multimodal model\n",
    "criterion = nn.CrossEntropyLoss()\n",
    "# We only train the text part and the new classifier\n",
    "optimizer = optim.AdamW(\n",
    "    [p for p in multimodal_model.parameters() if p.requires_grad],\n",
    "    lr=LEARNING_RATE\n",
    ")\n",
    "\n",
    "# --- Training Loop for Multimodal Model ---\n",
    "print(\"Training Multimodal Model...\")\n",
    "for epoch in range(NUM_EPOCHS):\n",
    "    multimodal_model.train()\n",
    "    running_loss = 0.0\n",
    "    for images, texts, labels in tqdm(train_loader, desc=f\"Epoch {epoch+1}/{NUM_EPOCHS}\"):\n",
    "        images, texts, labels = images.to(device), texts.to(device), labels.to(device)\n",
    "\n",
    "        optimizer.zero_grad()\n",
    "        outputs = multimodal_model(images, texts)\n",
    "        loss = criterion(outputs, labels)\n",
    "        loss.backward()\n",
    "        optimizer.step()\n",
    "        running_loss += loss.item()\n",
    "\n",
    "    print(f\"Epoch {epoch+1}, Loss: {running_loss/len(train_loader):.4f}\")"
   ],
   "outputs": [
    {
     "name": "stdout",
     "output_type": "stream",
     "text": [
      "Training Multimodal Model...\n"
     ]
    },
    {
     "data": {
      "text/plain": [
       "Epoch 1/10:   0%|          | 0/61 [00:00<?, ?it/s]"
      ],
      "application/vnd.jupyter.widget-view+json": {
       "version_major": 2,
       "version_minor": 0,
       "model_id": "eeab1ae831214c60a9ac5a48ddedb7a1"
      }
     },
     "metadata": {},
     "output_type": "display_data"
    },
    {
     "name": "stdout",
     "output_type": "stream",
     "text": [
      "Epoch 1, Loss: 0.9801\n"
     ]
    },
    {
     "data": {
      "text/plain": [
       "Epoch 2/10:   0%|          | 0/61 [00:00<?, ?it/s]"
      ],
      "application/vnd.jupyter.widget-view+json": {
       "version_major": 2,
       "version_minor": 0,
       "model_id": "b2faa62ded0f4ed082ad385c1811f022"
      }
     },
     "metadata": {},
     "output_type": "display_data"
    },
    {
     "name": "stdout",
     "output_type": "stream",
     "text": [
      "Epoch 2, Loss: 0.9044\n"
     ]
    },
    {
     "data": {
      "text/plain": [
       "Epoch 3/10:   0%|          | 0/61 [00:00<?, ?it/s]"
      ],
      "application/vnd.jupyter.widget-view+json": {
       "version_major": 2,
       "version_minor": 0,
       "model_id": "c95ea421028c471599ddec9a9a3476b2"
      }
     },
     "metadata": {},
     "output_type": "display_data"
    },
    {
     "name": "stdout",
     "output_type": "stream",
     "text": [
      "Epoch 3, Loss: 0.8604\n"
     ]
    },
    {
     "data": {
      "text/plain": [
       "Epoch 4/10:   0%|          | 0/61 [00:00<?, ?it/s]"
      ],
      "application/vnd.jupyter.widget-view+json": {
       "version_major": 2,
       "version_minor": 0,
       "model_id": "f495f452586c4700a0f80c922913cfc7"
      }
     },
     "metadata": {},
     "output_type": "display_data"
    },
    {
     "name": "stdout",
     "output_type": "stream",
     "text": [
      "Epoch 4, Loss: 0.8415\n"
     ]
    },
    {
     "data": {
      "text/plain": [
       "Epoch 5/10:   0%|          | 0/61 [00:00<?, ?it/s]"
      ],
      "application/vnd.jupyter.widget-view+json": {
       "version_major": 2,
       "version_minor": 0,
       "model_id": "017fd388510c471fa2eb52cdf6109136"
      }
     },
     "metadata": {},
     "output_type": "display_data"
    },
    {
     "name": "stdout",
     "output_type": "stream",
     "text": [
      "Epoch 5, Loss: 0.8199\n"
     ]
    },
    {
     "data": {
      "text/plain": [
       "Epoch 6/10:   0%|          | 0/61 [00:00<?, ?it/s]"
      ],
      "application/vnd.jupyter.widget-view+json": {
       "version_major": 2,
       "version_minor": 0,
       "model_id": "821edc82d7664fe39987e3865f3c7862"
      }
     },
     "metadata": {},
     "output_type": "display_data"
    },
    {
     "name": "stdout",
     "output_type": "stream",
     "text": [
      "Epoch 6, Loss: 0.8019\n"
     ]
    },
    {
     "data": {
      "text/plain": [
       "Epoch 7/10:   0%|          | 0/61 [00:00<?, ?it/s]"
      ],
      "application/vnd.jupyter.widget-view+json": {
       "version_major": 2,
       "version_minor": 0,
       "model_id": "d0abeba3dd384953b3afda3b6639b1c2"
      }
     },
     "metadata": {},
     "output_type": "display_data"
    },
    {
     "name": "stdout",
     "output_type": "stream",
     "text": [
      "Epoch 7, Loss: 0.7949\n"
     ]
    },
    {
     "data": {
      "text/plain": [
       "Epoch 8/10:   0%|          | 0/61 [00:00<?, ?it/s]"
      ],
      "application/vnd.jupyter.widget-view+json": {
       "version_major": 2,
       "version_minor": 0,
       "model_id": "382a48c50d2c4ffb9d561b389534cb06"
      }
     },
     "metadata": {},
     "output_type": "display_data"
    },
    {
     "name": "stdout",
     "output_type": "stream",
     "text": [
      "Epoch 8, Loss: 0.7775\n"
     ]
    },
    {
     "data": {
      "text/plain": [
       "Epoch 9/10:   0%|          | 0/61 [00:00<?, ?it/s]"
      ],
      "application/vnd.jupyter.widget-view+json": {
       "version_major": 2,
       "version_minor": 0,
       "model_id": "e98ed0311a874acda7c749de3324a15b"
      }
     },
     "metadata": {},
     "output_type": "display_data"
    },
    {
     "name": "stdout",
     "output_type": "stream",
     "text": [
      "Epoch 9, Loss: 0.7650\n"
     ]
    },
    {
     "data": {
      "text/plain": [
       "Epoch 10/10:   0%|          | 0/61 [00:00<?, ?it/s]"
      ],
      "application/vnd.jupyter.widget-view+json": {
       "version_major": 2,
       "version_minor": 0,
       "model_id": "8f6e8b119b0d43afadacf4bdc6dc5c8d"
      }
     },
     "metadata": {},
     "output_type": "display_data"
    },
    {
     "name": "stdout",
     "output_type": "stream",
     "text": [
      "Epoch 10, Loss: 0.7478\n"
     ]
    }
   ],
   "execution_count": 21
  },
  {
   "metadata": {
    "ExecuteTime": {
     "end_time": "2025-07-11T22:52:36.074975Z",
     "start_time": "2025-07-11T22:52:31.405780Z"
    }
   },
   "cell_type": "code",
   "source": [
    "# --- Evaluation ---\n",
    "multimodal_acc, multimodal_cm = evaluate_model(multimodal_model, val_loader, model_type=\"multimodal\")\n",
    "print(f\"\\nMultimodal Model Validation Accuracy: {multimodal_acc:.4f}\")"
   ],
   "outputs": [
    {
     "name": "stdout",
     "output_type": "stream",
     "text": [
      "\n",
      "Multimodal Model Validation Accuracy: 0.6150\n"
     ]
    }
   ],
   "execution_count": 22
  },
  {
   "metadata": {
    "ExecuteTime": {
     "end_time": "2025-07-11T22:52:37.327435Z",
     "start_time": "2025-07-11T22:52:37.239968Z"
    }
   },
   "cell_type": "code",
   "source": [
    "# Plotting the confusion matrix\n",
    "plt.figure(figsize=(6, 5))\n",
    "sns.heatmap(multimodal_cm, annot=True, fmt='d', cmap='Blues',\n",
    "            xticklabels=label_map.keys(), yticklabels=label_map.keys())\n",
    "plt.title('Multimodal Model Confusion Matrix')\n",
    "plt.xlabel('Predicted')\n",
    "plt.ylabel('True')\n",
    "plt.show()"
   ],
   "outputs": [
    {
     "data": {
      "text/plain": [
       "<Figure size 600x500 with 2 Axes>"
      ],
      "image/png": "[encoded data removed]"
     },
     "metadata": {},
     "output_type": "display_data"
    }
   ],
   "execution_count": 23
  },
  {
   "metadata": {},
   "cell_type": "markdown",
   "source": [
    "## 9️⃣ Performance Comparison\n",
    "\n",
    "**Task**: Present the results of all three models side-by-side.\n",
    "\n",
    "**Requirements**:\n",
    "- Display the final validation accuracies for the Image-Only, Text-Only, and Multimodal models.\n",
    "- Plot the confusion matrices for all three models in a single figure for easy comparison."
   ]
  },
  {
   "metadata": {
    "ExecuteTime": {
     "end_time": "2025-07-11T22:52:39.965320Z",
     "start_time": "2025-07-11T22:52:39.961878Z"
    }
   },
   "cell_type": "code",
   "source": [
    "# Print the final validation accuracies in a summary\n",
    "print(\"--- Final Model Performance ---\")\n",
    "print(f\"Image-Only Model Accuracy:   {image_acc:.4f}\")\n",
    "print(f\"Text-Only Model Accuracy:    {text_acc:.4f}\")\n",
    "print(f\"Multimodal Model Accuracy:   {multimodal_acc:.4f}\")\n",
    "print(\"-----------------------------\")"
   ],
   "outputs": [
    {
     "name": "stdout",
     "output_type": "stream",
     "text": [
      "--- Final Model Performance ---\n",
      "Image-Only Model Accuracy:   0.5893\n",
      "Text-Only Model Accuracy:    0.5462\n",
      "Multimodal Model Accuracy:   0.6150\n",
      "-----------------------------\n"
     ]
    }
   ],
   "execution_count": 24
  },
  {
   "metadata": {
    "ExecuteTime": {
     "end_time": "2025-07-11T22:52:42.254039Z",
     "start_time": "2025-07-11T22:52:41.909742Z"
    }
   },
   "cell_type": "code",
   "source": [
    "# Create a 1x3 subplot to display all confusion matrices\n",
    "fig, axes = plt.subplots(1, 3, figsize=(20, 5))\n",
    "fig.suptitle('Model Performance Comparison', fontsize=16)\n",
    "\n",
    "# Plot for Image Model\n",
    "sns.heatmap(image_cm, annot=True, fmt='d', cmap='Blues', ax=axes[0],\n",
    "            xticklabels=label_map.keys(), yticklabels=label_map.keys())\n",
    "axes[0].set_title(f'Image Model\\nAccuracy: {image_acc:.4f}')\n",
    "axes[0].set_xlabel('Predicted')\n",
    "axes[0].set_ylabel('True')\n",
    "\n",
    "# Plot for Text Model\n",
    "sns.heatmap(text_cm, annot=True, fmt='d', cmap='Greens', ax=axes[1],\n",
    "            xticklabels=label_map.keys(), yticklabels=label_map.keys())\n",
    "axes[1].set_title(f'Text Model\\nAccuracy: {text_acc:.4f}')\n",
    "axes[1].set_xlabel('Predicted')\n",
    "axes[1].set_ylabel('True')\n",
    "\n",
    "# Plot for Multimodal Model\n",
    "sns.heatmap(multimodal_cm, annot=True, fmt='d', cmap='Oranges', ax=axes[2],\n",
    "            xticklabels=label_map.keys(), yticklabels=label_map.keys())\n",
    "axes[2].set_title(f'Multimodal Model\\nAccuracy: {multimodal_acc:.4f}')\n",
    "axes[2].set_xlabel('Predicted')\n",
    "axes[2].set_ylabel('True')\n",
    "\n",
    "# Display the final plot\n",
    "plt.tight_layout(rect=[0, 0, 1, 0.96]) # Adjust layout to make space for suptitle\n",
    "plt.show()"
   ],
   "outputs": [
    {
     "data": {
      "text/plain": [
       "<Figure size 2000x500 with 6 Axes>"
      ],
      "image/png": "[encoded data removed]"
     },
     "metadata": {},
     "output_type": "display_data"
    }
   ],
   "execution_count": 25
  },
  {
   "metadata": {},
   "cell_type": "markdown",
   "source": [
    "## 📝 Evaluation Criteria\n",
    "\n",
    "Your homework will be evaluated based on:\n",
    "\n",
    "1.  **Implementation Correctness (40%)**\n",
    "    - Correct implementation of all three model architectures (CNN, RNN/LSTM, Combined).\n",
    "    - Proper data loading, preprocessing, and splitting.\n",
    "    - Working training and evaluation loops for each model.\n",
    "\n",
    "2.  **Model Training and Results (30%)**\n",
    "    - All three models train without errors.\n",
    "    - Loss decreases over epochs.\n",
    "    - Final models produce reasonable predictions on the validation set.\n",
    "\n",
    "3.  **Code Quality (20%)**\n",
    "    - Clean, readable code with comments explaining key parts.\n",
    "    - Correct use of PyTorch modules, tensor shapes, and data flow.\n",
    "    - Efficient implementation.\n",
    "\n",
    "4.  **Comparison and Visualization (10%)**\n",
    "    - Clear presentation of final accuracies for all models.\n",
    "    - Correctly generated and clearly labeled confusion matrices for comparison."
   ]
  },
  {
   "metadata": {},
   "cell_type": "markdown",
   "source": "# Written by: Ali Habibullah"
  }
 ]
}
