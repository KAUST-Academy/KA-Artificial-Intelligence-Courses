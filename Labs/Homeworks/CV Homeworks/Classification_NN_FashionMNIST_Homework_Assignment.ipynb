{
  "cells": [
    {
      "cell_type": "markdown",
      "metadata": {
        "id": "zemWtDr8gVOf"
      },
      "source": [
        "# FashionMNIST Classification using Neural Networks - Homework Assignment\n",
        "\n",
        "![Pix2Pix Architecture](https://i.imgur.com/a3uAqnb.png)\n",
        "In this homework, you will implement a **Neural Network classifier** for the FashionMNIST dataset. This dataset contains grayscale images of 28x28 pixels representing 10 categories of clothing items.\n",
        "\n",
        "## 📌 Project Overview\n",
        "- **Task**: Multi-class classification of clothing items\n",
        "- **Dataset**: FashionMNIST (10 classes of clothing)\n",
        "- **Architecture**: Fully connected neural network or CNN\n",
        "- **Goal**: Achieve high accuracy on fashion item classification\n",
        "\n",
        "## 📚 Learning Objectives\n",
        "By completing this assignment, you will:\n",
        "- Understand image classification with neural networks\n",
        "- Implement data preprocessing and augmentation\n",
        "- Build and train neural network architectures\n",
        "- Evaluate model performance and visualize results\n",
        "- Practice PyTorch fundamentals"
      ]
    },
    {
      "cell_type": "markdown",
      "source": [
        "## 1️⃣ Import Libraries and Configuration\n",
        "\n",
        "**Task**: Import all necessary libraries and set up configuration parameters.\n",
        "\n",
        "**Requirements**:\n",
        "- Import PyTorch, torchvision, and related libraries\n",
        "- Import matplotlib, numpy, and other utilities\n",
        "- Set random seeds for reproducibility\n",
        "- Configure hyperparameters with reasonable values"
      ],
      "metadata": {
        "id": "jACi_9BGCjom"
      }
    },
    {
      "cell_type": "code",
      "execution_count": null,
      "metadata": {
        "id": "4GQMlmw2hwbn"
      },
      "outputs": [],
      "source": [
        "# TODO: Import all necessary libraries\n",
        "# torch, torch.nn, torch.optim\n",
        "# torchvision.datasets, torchvision.transforms\n",
        "# matplotlib.pyplot, numpy\n",
        "\n",
        "# TODO: Set random seeds for reproducibility (use seed=42)\n",
        "\n",
        "# TODO: Check device availability and print\n",
        "\n",
        "# TODO: Define configuration parameters:\n",
        "IMG_SIZE = 28  # Image size (28x28 for FashionMNIST)\n",
        "BATCH_SIZE = 64  # Batch size\n",
        "LEARNING_RATE = 0.001  # Learning rate\n",
        "NUM_EPOCHS = 10  # Number of training epochs\n",
        "NUM_CLASSES = 10  # Number of clothing categories"
      ]
    },
    {
      "cell_type": "markdown",
      "source": [
        "## 2️⃣ Data Loading and Preprocessing\n",
        "\n",
        "**Task**: Load the FashionMNIST dataset and apply appropriate transformations.\n",
        "\n",
        "**Requirements**:\n",
        "- Load train and test datasets from torchvision\n",
        "- Apply normalization and data augmentation\n",
        "- Create data loaders with appropriate batch sizes\n",
        "- Visualize sample images with labels"
      ],
      "metadata": {
        "id": "2I3pqrwrCndt"
      }
    },
    {
      "cell_type": "code",
      "execution_count": null,
      "metadata": {
        "id": "cvcXCUETh0AW"
      },
      "outputs": [],
      "source": [
        "# TODO: Define transforms using transforms.Compose:\n",
        "#       For training use any of: RandomRotation, RandomHorizontalFlip, Other Data Augmentation,\n",
        "#       Fot training must use: ToTensor, Normalize\n",
        "#       For testing: ToTensor, Normalize\n",
        "#       Use mean=0.5, std=0.5 for normalization to get [-1,1] range\n",
        "\n",
        "# TODO: Load FashionMNIST datasets:\n",
        "#       train_data = datasets.FashionMNIST(download=True, train=True, transform=train_transform)\n",
        "#       test_data = datasets.FashionMNIST(download=True, train=False, transform=test_transform)\n",
        "\n",
        "# TODO: Create train_loader and test_loader with DataLoader\n",
        "#       Use appropriate batch_size and shuffle settings\n",
        "\n",
        "# TODO: Print dataset sizes and class names\n",
        "# TODO: Visualize a batch of training images with their labels"
      ]
    },
    {
      "cell_type": "markdown",
      "source": [
        "## 3️⃣ Model Architecture\n",
        "\n",
        "**Task**: Implement a neural network classifier for FashionMNIST.\n",
        "\n",
        "**Requirements**:\n",
        "- Choose between fully connected network or CNN\n",
        "- Use appropriate activation functions and regularization\n",
        "- Ensure output matches number of classes (10)\n",
        "- Initialize the model and move to device"
      ],
      "metadata": {
        "id": "QziohY54C5qy"
      }
    },
    {
      "cell_type": "code",
      "source": [
        "# TODO: Create a classifier class inheriting from nn.Module\n",
        "\n",
        "# Fully Connected Network\n",
        "# TODO: In __init__:\n",
        "#       - Flatten layer: nn.Flatten()\n",
        "#       - Hidden layers: nn.Linear(784, 512) + ReLU + Dropout\n",
        "#       - More hidden layers as needed\n",
        "#       - Output layer: nn.Linear(hidden_size, 10)\n",
        "# -------------------------------------------------------------------------\n",
        "# If you know what a Convolutional Neural Network is, use this instead,\n",
        "# TODO: In __init__:\n",
        "#       - Conv layers: nn.Conv2d + ReLU + MaxPool2d\n",
        "#       - Multiple conv blocks for feature extraction\n",
        "#       - Flatten and fully connected layers for classification\n",
        "#       - Output layer with 10 units\n",
        "# -------------------------------------------------------------------------\n",
        "\n",
        "# TODO: Implement forward(self, x) method\n",
        "# TODO: Initialize model and move to device\n",
        "# TODO: Print model architecture and parameter count\n",
        "# TODO: Test with random input to verify output shape"
      ],
      "metadata": {
        "id": "23qSvswTC564"
      },
      "execution_count": null,
      "outputs": []
    },
    {
      "cell_type": "markdown",
      "source": [
        "## 4️⃣ Loss Function and Optimizer\n",
        "\n",
        "**Task**: Set up loss function and optimizer for training.\n",
        "\n",
        "**Requirements**:\n",
        "- Use appropriate loss function for multi-class classification\n",
        "- Initialize optimizer with given hyperparameters\n",
        "- Optional: Add learning rate scheduler\n"
      ],
      "metadata": {
        "id": "20L86x2XDSzi"
      }
    },
    {
      "cell_type": "code",
      "source": [
        "# TODO: Define loss function:\n",
        "#       criterion = nn.CrossEntropyLoss() for multi-class classification\n",
        "\n",
        "# TODO: Create optimizer:\n",
        "#       optimizer = torch.optim.Adam(model.parameters(), lr=LEARNING_RATE)\n",
        "#       or torch.optim.SGD with momentum"
      ],
      "metadata": {
        "id": "4dp1lhWODTA9"
      },
      "execution_count": null,
      "outputs": []
    },
    {
      "cell_type": "markdown",
      "source": [
        "## 5️⃣ Training Function\n",
        "\n",
        "**Task**: Implement the training function with proper loss tracking.\n",
        "\n",
        "**Requirements**:\n",
        "- Train model for specified number of epochs\n",
        "- Track training loss and accuracy\n",
        "- Display progress during training\n",
        "- Save loss values for plotting"
      ],
      "metadata": {
        "id": "oxsOHvZbDXny"
      }
    },
    {
      "cell_type": "code",
      "source": [
        "# TODO: Create training function:\n",
        "# TODO: Initialize lists to store losses and accuracies\n",
        "\n",
        "# TODO: For each epoch:\n",
        "#       - Set model to training mode\n",
        "#       - Initialize running loss and correct predictions\n",
        "#\n",
        "#       For each batch:\n",
        "#       - Zero gradients\n",
        "#       - Forward pass: outputs = model(images)\n",
        "#       - Calculate loss: loss = criterion(outputs, labels)\n",
        "#       - Backward pass: loss.backward()\n",
        "#       - Update weights: optimizer.step()\n",
        "#       - Track statistics\n",
        "#\n",
        "# TODO: Calculate and print epoch statistics (loss, accuracy)\n",
        "# TODO: Optional: Update learning rate with scheduler\n",
        "# TODO: Return training history for plotting"
      ],
      "metadata": {
        "id": "CanKSWrGDYFE"
      },
      "execution_count": null,
      "outputs": []
    },
    {
      "cell_type": "markdown",
      "source": [
        "## 6️⃣ Training Loop\n",
        "\n",
        "**Task**: Execute the training process and monitor progress.\n",
        "\n",
        "**Requirements**:\n",
        "- Run training for the specified number of epochs\n",
        "- Display training progress\n",
        "- Track loss reduction over time\n"
      ],
      "metadata": {
        "id": "tEum9r_ADg8B"
      }
    },
    {
      "cell_type": "code",
      "source": [
        "# TODO: Call training function and store results\n",
        "# TODO: Print training completion message\n",
        "# TODO: Display final training statistics"
      ],
      "metadata": {
        "id": "rgyxaqTmDhY4"
      },
      "execution_count": null,
      "outputs": []
    },
    {
      "cell_type": "markdown",
      "source": [
        "\n",
        "## 7️⃣ Model Evaluation\n",
        "\n",
        "**Task**: Evaluate the trained model on test data.\n",
        "\n",
        "**Requirements**:\n",
        "- Calculate test accuracy and loss\n",
        "- Generate classification report\n",
        "- Create confusion matrix\n",
        "- Analyze per-class performance"
      ],
      "metadata": {
        "id": "hD7ZCQtNDlVc"
      }
    },
    {
      "cell_type": "code",
      "source": [
        "# TODO: Create evaluation function:\n",
        "# TODO: Set model to evaluation mode\n",
        "# TODO: Initialize test loss and accuracy tracking\n",
        "\n",
        "# TODO: With torch.no_grad():\n",
        "#       For each test batch:\n",
        "#       - Forward pass\n",
        "#       - Calculate loss and predictions\n",
        "#       - Track correct predictions\n",
        "\n",
        "# TODO: Calculate overall test accuracy and loss\n",
        "# TODO: Generate detailed classification report using sklearn\n",
        "# TODO: Create and plot confusion matrix\n",
        "# TODO: Print per-class accuracies"
      ],
      "metadata": {
        "id": "Jcu3EQY9DjX5"
      },
      "execution_count": null,
      "outputs": []
    },
    {
      "cell_type": "markdown",
      "source": [
        "## 8️⃣ Results Visualization\n",
        "\n",
        "**Task**: Create visualizations to analyze model performance.\n",
        "\n",
        "**Requirements**:\n",
        "- Plot training loss curves\n",
        "- Show sample predictions with confidence\n",
        "- Visualize misclassified examples\n",
        "- Display model predictions on test images"
      ],
      "metadata": {
        "id": "4nLipd00Dqx6"
      }
    },
    {
      "cell_type": "code",
      "source": [
        "# TODO: Plot training loss and accuracy curves over epochs\n",
        "\n",
        "# TODO: Create function to show sample predictions:\n",
        "#       - Take random test samples\n",
        "#       - Display images with predicted and true labels\n",
        "#       - Show prediction confidence/probabilities\n",
        "\n",
        "# TODO: Analyze misclassified examples:\n",
        "#       - Find incorrectly predicted samples\n",
        "#       - Display them with predicted vs true labels\n",
        "\n",
        "# TODO: Create a grid showing various test samples with predictions"
      ],
      "metadata": {
        "id": "WyES_crlDraQ"
      },
      "execution_count": null,
      "outputs": []
    },
    {
      "cell_type": "markdown",
      "source": [
        "## 9️⃣ Model Performance Analysis\n",
        "\n",
        "**Task**: Analyze your model's performance and characteristics.\n",
        "\n",
        "**Requirements**:\n",
        "- Discuss model accuracy and loss convergence\n",
        "- Identify which classes are easiest/hardest to classify\n",
        "- Analyze confusion matrix patterns\n",
        "- Document any interesting observations"
      ],
      "metadata": {
        "id": "cwTR8BMuDyZz"
      }
    },
    {
      "cell_type": "code",
      "source": [
        "# TODO: Print final model performance summary\n",
        "# TODO: Analyze which clothing categories are confused with each other\n",
        "# TODO: Discuss potential improvements to the model\n",
        "# TODO: Comment on training stability and convergence"
      ],
      "metadata": {
        "id": "1VL_Vs-YDyr5"
      },
      "execution_count": null,
      "outputs": []
    },
    {
      "cell_type": "markdown",
      "source": [
        "## 📝 Evaluation Criteria\n",
        "\n",
        "Your homework will be evaluated based on:\n",
        "\n",
        "1. **Implementation Correctness (40%)**\n",
        "   - Proper neural network implementation\n",
        "   - Correct data loading and preprocessing\n",
        "   - Working training loop with appropriate loss calculation\n",
        "\n",
        "2. **Model Performance (30%)**\n",
        "   - Model trains without errors\n",
        "   - Reasonable accuracy on test set (>=70% expected)\n",
        "   - Proper loss convergence during training\n",
        "\n",
        "3. **Code Quality (20%)**\n",
        "   - Clean, readable code with comments\n",
        "   - Proper tensor handling and device management\n",
        "   - Efficient implementation(No uneeded for loops, or not checking for GPU)\n",
        "\n",
        "4. **Visualization and Analysis (10%)**\n",
        "   - Clear training curves and result visualization\n",
        "   - Meaningful analysis of model performance\n",
        "   - Understanding of classification results"
      ],
      "metadata": {
        "id": "9cRurlkVD3zK"
      }
    }
  ],
  "metadata": {
    "accelerator": "GPU",
    "colab": {
      "gpuType": "T4",
      "provenance": []
    },
    "kernelspec": {
      "display_name": "Python 3 (ipykernel)",
      "language": "python",
      "name": "python3"
    },
    "language_info": {
      "name": "python"
    }
  },
  "nbformat": 4,
  "nbformat_minor": 0
}